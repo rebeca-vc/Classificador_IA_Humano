{
  "cells": [
    {
      "cell_type": "markdown",
      "metadata": {
        "id": "UOyZX5HYbb7m"
      },
      "source": [
        "# **RECONHECIMENTO DE TEXTOS GERADOS POR INTELIGÊNCIA ARTIFICIAL: IMPLEMENTAÇÃO DAS PROPOSTAS APRESENTADAS**\n",
        "\n",
        "---\n",
        "\n",
        "SCC0633/SCC5908 - Processamento de Linguagem Natural - 2024\n",
        "\n",
        "Professor: Thiago A.S Pardo.\n",
        "Estagiário PAE: Germano A. Z. Jorge\n",
        "\n",
        "## **Grupo: Generar**\n",
        "\n",
        "* Jônatas Alves Lopes (11796552)\n",
        "* Julio Cesar Galdino (15112607)\n",
        "* Maria Victória Brandão Barros (12608692)\n",
        "* Rebeca Vieira Carvalho (12543530)\n",
        "* Thierry de Souza Araújo (12681094)"
      ]
    },
    {
      "cell_type": "markdown",
      "metadata": {
        "id": "p7OP5qc5bbpN"
      },
      "source": [
        "## **Inicialização do ambiente**\n",
        "\n",
        "Para que a execução do sistema e de todas as suas partes, é necessário realizar as seguintes instalações e importações.  "
      ]
    },
    {
      "cell_type": "markdown",
      "metadata": {
        "id": "rRRmsNdwcPpM"
      },
      "source": [
        "### **Instalando bibliotecas adicionais**"
      ]
    },
    {
      "cell_type": "code",
      "execution_count": null,
      "metadata": {
        "colab": {
          "base_uri": "https://localhost:8080/"
        },
        "id": "ytyWRPlxQaJk",
        "outputId": "4242f9af-14bb-4bac-b109-c1faf8dee1f0"
      },
      "outputs": [
        {
          "name": "stdout",
          "output_type": "stream",
          "text": [
            "Requirement already satisfied: tokenizer in /usr/local/lib/python3.10/dist-packages (3.4.3)\n"
          ]
        }
      ],
      "source": [
        "pip install tokenizer"
      ]
    },
    {
      "cell_type": "code",
      "execution_count": null,
      "metadata": {
        "colab": {
          "base_uri": "https://localhost:8080/"
        },
        "id": "dOuvX1P7Qjac",
        "outputId": "d65a1217-2ca9-4af5-e8f9-99797d915469"
      },
      "outputs": [
        {
          "name": "stdout",
          "output_type": "stream",
          "text": [
            "Requirement already satisfied: pyspellchecker in /usr/local/lib/python3.10/dist-packages (0.8.1)\n"
          ]
        }
      ],
      "source": [
        "pip install pyspellchecker"
      ]
    },
    {
      "cell_type": "markdown",
      "metadata": {
        "id": "B5q5ECt7ddUe"
      },
      "source": [
        "### **Importações**"
      ]
    },
    {
      "cell_type": "code",
      "execution_count": null,
      "metadata": {
        "id": "fNa-W3kWuw8Z"
      },
      "outputs": [],
      "source": [
        "import pandas as pd\n",
        "from tokenizer import tokenize\n",
        "import nltk\n",
        "from collections import Counter\n",
        "from spellchecker import SpellChecker"
      ]
    },
    {
      "cell_type": "markdown",
      "metadata": {
        "id": "1ZFw5Q_feEpt"
      },
      "source": [
        "### **NLTK downloads**\n",
        "Esses arquivos são importantes para o funcionamento da biblioteca NLTK e suas funções de tageamento."
      ]
    },
    {
      "cell_type": "code",
      "execution_count": null,
      "metadata": {
        "colab": {
          "base_uri": "https://localhost:8080/"
        },
        "id": "NMz5SQvbgVwo",
        "outputId": "69128674-2501-4730-dc65-d65f6feae125"
      },
      "outputs": [
        {
          "name": "stderr",
          "output_type": "stream",
          "text": [
            "[nltk_data] Downloading package punkt to /root/nltk_data...\n",
            "[nltk_data]   Package punkt is already up-to-date!\n"
          ]
        },
        {
          "data": {
            "text/plain": [
              "True"
            ]
          },
          "execution_count": 53,
          "metadata": {},
          "output_type": "execute_result"
        }
      ],
      "source": [
        "nltk.download('punkt')"
      ]
    },
    {
      "cell_type": "code",
      "execution_count": null,
      "metadata": {
        "colab": {
          "base_uri": "https://localhost:8080/"
        },
        "id": "Gey9YfPkRM4M",
        "outputId": "efe2dd9d-7dc8-4f52-a51c-9add876759fd"
      },
      "outputs": [
        {
          "name": "stderr",
          "output_type": "stream",
          "text": [
            "[nltk_data] Downloading package averaged_perceptron_tagger to\n",
            "[nltk_data]     /root/nltk_data...\n",
            "[nltk_data]   Unzipping taggers/averaged_perceptron_tagger.zip.\n"
          ]
        },
        {
          "data": {
            "text/plain": [
              "True"
            ]
          },
          "execution_count": 54,
          "metadata": {},
          "output_type": "execute_result"
        }
      ],
      "source": [
        "nltk.download('averaged_perceptron_tagger')"
      ]
    },
    {
      "cell_type": "markdown",
      "metadata": {
        "id": "Ls8I2xNIg4uk"
      },
      "source": [
        "### **Importação do Dataset**"
      ]
    },
    {
      "cell_type": "markdown",
      "metadata": {
        "id": "JoZjAWtj831I"
      },
      "source": [
        "#### Com arquivo baixado"
      ]
    },
    {
      "cell_type": "code",
      "execution_count": null,
      "metadata": {
        "id": "Lx2lqvaF6qcZ"
      },
      "outputs": [],
      "source": [
        "import csv\n",
        "df = pd.read_csv('AI_Human.csv')"
      ]
    },
    {
      "cell_type": "markdown",
      "metadata": {
        "id": "jsRYXI-Y8CFR"
      },
      "source": [
        "#### Pegando dataframe"
      ]
    },
    {
      "cell_type": "code",
      "execution_count": null,
      "metadata": {
        "colab": {
          "base_uri": "https://localhost:8080/"
        },
        "collapsed": true,
        "id": "UtCUhb5UyJhN",
        "outputId": "872769ea-7b15-4909-f40b-16633e622409"
      },
      "outputs": [
        {
          "data": {
            "application/vnd.google.colaboratory.intrinsic+json": {
              "type": "dataframe",
              "variable_name": "df"
            },
            "text/html": [
              "\n",
              "  <div id=\"df-b920e02e-17ec-4614-8274-7b45d4445773\" class=\"colab-df-container\">\n",
              "    <div>\n",
              "<style scoped>\n",
              "    .dataframe tbody tr th:only-of-type {\n",
              "        vertical-align: middle;\n",
              "    }\n",
              "\n",
              "    .dataframe tbody tr th {\n",
              "        vertical-align: top;\n",
              "    }\n",
              "\n",
              "    .dataframe thead th {\n",
              "        text-align: right;\n",
              "    }\n",
              "</style>\n",
              "<table border=\"1\" class=\"dataframe\">\n",
              "  <thead>\n",
              "    <tr style=\"text-align: right;\">\n",
              "      <th></th>\n",
              "      <th>text</th>\n",
              "      <th>generated</th>\n",
              "    </tr>\n",
              "  </thead>\n",
              "  <tbody>\n",
              "    <tr>\n",
              "      <th>0</th>\n",
              "      <td>Cars. Cars have been around since they became ...</td>\n",
              "      <td>0.0</td>\n",
              "    </tr>\n",
              "    <tr>\n",
              "      <th>1</th>\n",
              "      <td>Transportation is a large necessity in most co...</td>\n",
              "      <td>0.0</td>\n",
              "    </tr>\n",
              "    <tr>\n",
              "      <th>2</th>\n",
              "      <td>\"America's love affair with it's vehicles seem...</td>\n",
              "      <td>0.0</td>\n",
              "    </tr>\n",
              "    <tr>\n",
              "      <th>3</th>\n",
              "      <td>How often do you ride in a car? Do you drive a...</td>\n",
              "      <td>0.0</td>\n",
              "    </tr>\n",
              "    <tr>\n",
              "      <th>4</th>\n",
              "      <td>Cars are a wonderful thing. They are perhaps o...</td>\n",
              "      <td>0.0</td>\n",
              "    </tr>\n",
              "    <tr>\n",
              "      <th>...</th>\n",
              "      <td>...</td>\n",
              "      <td>...</td>\n",
              "    </tr>\n",
              "    <tr>\n",
              "      <th>487230</th>\n",
              "      <td>Tie Face on Mars is really just a big misunder...</td>\n",
              "      <td>0.0</td>\n",
              "    </tr>\n",
              "    <tr>\n",
              "      <th>487231</th>\n",
              "      <td>The whole purpose of democracy is to create a ...</td>\n",
              "      <td>0.0</td>\n",
              "    </tr>\n",
              "    <tr>\n",
              "      <th>487232</th>\n",
              "      <td>I firmly believe that governments worldwide sh...</td>\n",
              "      <td>1.0</td>\n",
              "    </tr>\n",
              "    <tr>\n",
              "      <th>487233</th>\n",
              "      <td>I DFN't agree with this decision because a LFT...</td>\n",
              "      <td>0.0</td>\n",
              "    </tr>\n",
              "    <tr>\n",
              "      <th>487234</th>\n",
              "      <td>Richard Non, Jimmy Carter, and Bob Dole and ot...</td>\n",
              "      <td>0.0</td>\n",
              "    </tr>\n",
              "  </tbody>\n",
              "</table>\n",
              "<p>487235 rows × 2 columns</p>\n",
              "</div>\n",
              "    <div class=\"colab-df-buttons\">\n",
              "\n",
              "  <div class=\"colab-df-container\">\n",
              "    <button class=\"colab-df-convert\" onclick=\"convertToInteractive('df-b920e02e-17ec-4614-8274-7b45d4445773')\"\n",
              "            title=\"Convert this dataframe to an interactive table.\"\n",
              "            style=\"display:none;\">\n",
              "\n",
              "  <svg xmlns=\"http://www.w3.org/2000/svg\" height=\"24px\" viewBox=\"0 -960 960 960\">\n",
              "    <path d=\"M120-120v-720h720v720H120Zm60-500h600v-160H180v160Zm220 220h160v-160H400v160Zm0 220h160v-160H400v160ZM180-400h160v-160H180v160Zm440 0h160v-160H620v160ZM180-180h160v-160H180v160Zm440 0h160v-160H620v160Z\"/>\n",
              "  </svg>\n",
              "    </button>\n",
              "\n",
              "  <style>\n",
              "    .colab-df-container {\n",
              "      display:flex;\n",
              "      gap: 12px;\n",
              "    }\n",
              "\n",
              "    .colab-df-convert {\n",
              "      background-color: #E8F0FE;\n",
              "      border: none;\n",
              "      border-radius: 50%;\n",
              "      cursor: pointer;\n",
              "      display: none;\n",
              "      fill: #1967D2;\n",
              "      height: 32px;\n",
              "      padding: 0 0 0 0;\n",
              "      width: 32px;\n",
              "    }\n",
              "\n",
              "    .colab-df-convert:hover {\n",
              "      background-color: #E2EBFA;\n",
              "      box-shadow: 0px 1px 2px rgba(60, 64, 67, 0.3), 0px 1px 3px 1px rgba(60, 64, 67, 0.15);\n",
              "      fill: #174EA6;\n",
              "    }\n",
              "\n",
              "    .colab-df-buttons div {\n",
              "      margin-bottom: 4px;\n",
              "    }\n",
              "\n",
              "    [theme=dark] .colab-df-convert {\n",
              "      background-color: #3B4455;\n",
              "      fill: #D2E3FC;\n",
              "    }\n",
              "\n",
              "    [theme=dark] .colab-df-convert:hover {\n",
              "      background-color: #434B5C;\n",
              "      box-shadow: 0px 1px 3px 1px rgba(0, 0, 0, 0.15);\n",
              "      filter: drop-shadow(0px 1px 2px rgba(0, 0, 0, 0.3));\n",
              "      fill: #FFFFFF;\n",
              "    }\n",
              "  </style>\n",
              "\n",
              "    <script>\n",
              "      const buttonEl =\n",
              "        document.querySelector('#df-b920e02e-17ec-4614-8274-7b45d4445773 button.colab-df-convert');\n",
              "      buttonEl.style.display =\n",
              "        google.colab.kernel.accessAllowed ? 'block' : 'none';\n",
              "\n",
              "      async function convertToInteractive(key) {\n",
              "        const element = document.querySelector('#df-b920e02e-17ec-4614-8274-7b45d4445773');\n",
              "        const dataTable =\n",
              "          await google.colab.kernel.invokeFunction('convertToInteractive',\n",
              "                                                    [key], {});\n",
              "        if (!dataTable) return;\n",
              "\n",
              "        const docLinkHtml = 'Like what you see? Visit the ' +\n",
              "          '<a target=\"_blank\" href=https://colab.research.google.com/notebooks/data_table.ipynb>data table notebook</a>'\n",
              "          + ' to learn more about interactive tables.';\n",
              "        element.innerHTML = '';\n",
              "        dataTable['output_type'] = 'display_data';\n",
              "        await google.colab.output.renderOutput(dataTable, element);\n",
              "        const docLink = document.createElement('div');\n",
              "        docLink.innerHTML = docLinkHtml;\n",
              "        element.appendChild(docLink);\n",
              "      }\n",
              "    </script>\n",
              "  </div>\n",
              "\n",
              "\n",
              "<div id=\"df-8158e5fe-580c-4438-9c13-242ab8982100\">\n",
              "  <button class=\"colab-df-quickchart\" onclick=\"quickchart('df-8158e5fe-580c-4438-9c13-242ab8982100')\"\n",
              "            title=\"Suggest charts\"\n",
              "            style=\"display:none;\">\n",
              "\n",
              "<svg xmlns=\"http://www.w3.org/2000/svg\" height=\"24px\"viewBox=\"0 0 24 24\"\n",
              "     width=\"24px\">\n",
              "    <g>\n",
              "        <path d=\"M19 3H5c-1.1 0-2 .9-2 2v14c0 1.1.9 2 2 2h14c1.1 0 2-.9 2-2V5c0-1.1-.9-2-2-2zM9 17H7v-7h2v7zm4 0h-2V7h2v10zm4 0h-2v-4h2v4z\"/>\n",
              "    </g>\n",
              "</svg>\n",
              "  </button>\n",
              "\n",
              "<style>\n",
              "  .colab-df-quickchart {\n",
              "      --bg-color: #E8F0FE;\n",
              "      --fill-color: #1967D2;\n",
              "      --hover-bg-color: #E2EBFA;\n",
              "      --hover-fill-color: #174EA6;\n",
              "      --disabled-fill-color: #AAA;\n",
              "      --disabled-bg-color: #DDD;\n",
              "  }\n",
              "\n",
              "  [theme=dark] .colab-df-quickchart {\n",
              "      --bg-color: #3B4455;\n",
              "      --fill-color: #D2E3FC;\n",
              "      --hover-bg-color: #434B5C;\n",
              "      --hover-fill-color: #FFFFFF;\n",
              "      --disabled-bg-color: #3B4455;\n",
              "      --disabled-fill-color: #666;\n",
              "  }\n",
              "\n",
              "  .colab-df-quickchart {\n",
              "    background-color: var(--bg-color);\n",
              "    border: none;\n",
              "    border-radius: 50%;\n",
              "    cursor: pointer;\n",
              "    display: none;\n",
              "    fill: var(--fill-color);\n",
              "    height: 32px;\n",
              "    padding: 0;\n",
              "    width: 32px;\n",
              "  }\n",
              "\n",
              "  .colab-df-quickchart:hover {\n",
              "    background-color: var(--hover-bg-color);\n",
              "    box-shadow: 0 1px 2px rgba(60, 64, 67, 0.3), 0 1px 3px 1px rgba(60, 64, 67, 0.15);\n",
              "    fill: var(--button-hover-fill-color);\n",
              "  }\n",
              "\n",
              "  .colab-df-quickchart-complete:disabled,\n",
              "  .colab-df-quickchart-complete:disabled:hover {\n",
              "    background-color: var(--disabled-bg-color);\n",
              "    fill: var(--disabled-fill-color);\n",
              "    box-shadow: none;\n",
              "  }\n",
              "\n",
              "  .colab-df-spinner {\n",
              "    border: 2px solid var(--fill-color);\n",
              "    border-color: transparent;\n",
              "    border-bottom-color: var(--fill-color);\n",
              "    animation:\n",
              "      spin 1s steps(1) infinite;\n",
              "  }\n",
              "\n",
              "  @keyframes spin {\n",
              "    0% {\n",
              "      border-color: transparent;\n",
              "      border-bottom-color: var(--fill-color);\n",
              "      border-left-color: var(--fill-color);\n",
              "    }\n",
              "    20% {\n",
              "      border-color: transparent;\n",
              "      border-left-color: var(--fill-color);\n",
              "      border-top-color: var(--fill-color);\n",
              "    }\n",
              "    30% {\n",
              "      border-color: transparent;\n",
              "      border-left-color: var(--fill-color);\n",
              "      border-top-color: var(--fill-color);\n",
              "      border-right-color: var(--fill-color);\n",
              "    }\n",
              "    40% {\n",
              "      border-color: transparent;\n",
              "      border-right-color: var(--fill-color);\n",
              "      border-top-color: var(--fill-color);\n",
              "    }\n",
              "    60% {\n",
              "      border-color: transparent;\n",
              "      border-right-color: var(--fill-color);\n",
              "    }\n",
              "    80% {\n",
              "      border-color: transparent;\n",
              "      border-right-color: var(--fill-color);\n",
              "      border-bottom-color: var(--fill-color);\n",
              "    }\n",
              "    90% {\n",
              "      border-color: transparent;\n",
              "      border-bottom-color: var(--fill-color);\n",
              "    }\n",
              "  }\n",
              "</style>\n",
              "\n",
              "  <script>\n",
              "    async function quickchart(key) {\n",
              "      const quickchartButtonEl =\n",
              "        document.querySelector('#' + key + ' button');\n",
              "      quickchartButtonEl.disabled = true;  // To prevent multiple clicks.\n",
              "      quickchartButtonEl.classList.add('colab-df-spinner');\n",
              "      try {\n",
              "        const charts = await google.colab.kernel.invokeFunction(\n",
              "            'suggestCharts', [key], {});\n",
              "      } catch (error) {\n",
              "        console.error('Error during call to suggestCharts:', error);\n",
              "      }\n",
              "      quickchartButtonEl.classList.remove('colab-df-spinner');\n",
              "      quickchartButtonEl.classList.add('colab-df-quickchart-complete');\n",
              "    }\n",
              "    (() => {\n",
              "      let quickchartButtonEl =\n",
              "        document.querySelector('#df-8158e5fe-580c-4438-9c13-242ab8982100 button');\n",
              "      quickchartButtonEl.style.display =\n",
              "        google.colab.kernel.accessAllowed ? 'block' : 'none';\n",
              "    })();\n",
              "  </script>\n",
              "</div>\n",
              "\n",
              "  <div id=\"id_ee24eb88-4189-464a-9c70-03c601e099d6\">\n",
              "    <style>\n",
              "      .colab-df-generate {\n",
              "        background-color: #E8F0FE;\n",
              "        border: none;\n",
              "        border-radius: 50%;\n",
              "        cursor: pointer;\n",
              "        display: none;\n",
              "        fill: #1967D2;\n",
              "        height: 32px;\n",
              "        padding: 0 0 0 0;\n",
              "        width: 32px;\n",
              "      }\n",
              "\n",
              "      .colab-df-generate:hover {\n",
              "        background-color: #E2EBFA;\n",
              "        box-shadow: 0px 1px 2px rgba(60, 64, 67, 0.3), 0px 1px 3px 1px rgba(60, 64, 67, 0.15);\n",
              "        fill: #174EA6;\n",
              "      }\n",
              "\n",
              "      [theme=dark] .colab-df-generate {\n",
              "        background-color: #3B4455;\n",
              "        fill: #D2E3FC;\n",
              "      }\n",
              "\n",
              "      [theme=dark] .colab-df-generate:hover {\n",
              "        background-color: #434B5C;\n",
              "        box-shadow: 0px 1px 3px 1px rgba(0, 0, 0, 0.15);\n",
              "        filter: drop-shadow(0px 1px 2px rgba(0, 0, 0, 0.3));\n",
              "        fill: #FFFFFF;\n",
              "      }\n",
              "    </style>\n",
              "    <button class=\"colab-df-generate\" onclick=\"generateWithVariable('df')\"\n",
              "            title=\"Generate code using this dataframe.\"\n",
              "            style=\"display:none;\">\n",
              "\n",
              "  <svg xmlns=\"http://www.w3.org/2000/svg\" height=\"24px\"viewBox=\"0 0 24 24\"\n",
              "       width=\"24px\">\n",
              "    <path d=\"M7,19H8.4L18.45,9,17,7.55,7,17.6ZM5,21V16.75L18.45,3.32a2,2,0,0,1,2.83,0l1.4,1.43a1.91,1.91,0,0,1,.58,1.4,1.91,1.91,0,0,1-.58,1.4L9.25,21ZM18.45,9,17,7.55Zm-12,3A5.31,5.31,0,0,0,4.9,8.1,5.31,5.31,0,0,0,1,6.5,5.31,5.31,0,0,0,4.9,4.9,5.31,5.31,0,0,0,6.5,1,5.31,5.31,0,0,0,8.1,4.9,5.31,5.31,0,0,0,12,6.5,5.46,5.46,0,0,0,6.5,12Z\"/>\n",
              "  </svg>\n",
              "    </button>\n",
              "    <script>\n",
              "      (() => {\n",
              "      const buttonEl =\n",
              "        document.querySelector('#id_ee24eb88-4189-464a-9c70-03c601e099d6 button.colab-df-generate');\n",
              "      buttonEl.style.display =\n",
              "        google.colab.kernel.accessAllowed ? 'block' : 'none';\n",
              "\n",
              "      buttonEl.onclick = () => {\n",
              "        google.colab.notebook.generateWithVariable('df');\n",
              "      }\n",
              "      })();\n",
              "    </script>\n",
              "  </div>\n",
              "\n",
              "    </div>\n",
              "  </div>\n"
            ],
            "text/plain": [
              "                                                     text  generated\n",
              "0       Cars. Cars have been around since they became ...        0.0\n",
              "1       Transportation is a large necessity in most co...        0.0\n",
              "2       \"America's love affair with it's vehicles seem...        0.0\n",
              "3       How often do you ride in a car? Do you drive a...        0.0\n",
              "4       Cars are a wonderful thing. They are perhaps o...        0.0\n",
              "...                                                   ...        ...\n",
              "487230  Tie Face on Mars is really just a big misunder...        0.0\n",
              "487231  The whole purpose of democracy is to create a ...        0.0\n",
              "487232  I firmly believe that governments worldwide sh...        1.0\n",
              "487233  I DFN't agree with this decision because a LFT...        0.0\n",
              "487234  Richard Non, Jimmy Carter, and Bob Dole and ot...        0.0\n",
              "\n",
              "[487235 rows x 2 columns]"
            ]
          },
          "execution_count": 47,
          "metadata": {},
          "output_type": "execute_result"
        }
      ],
      "source": [
        "df"
      ]
    },
    {
      "cell_type": "markdown",
      "metadata": {
        "id": "_1buvGQg6j6o"
      },
      "source": [
        "### **Separando os samples**"
      ]
    },
    {
      "cell_type": "code",
      "execution_count": null,
      "metadata": {
        "colab": {
          "base_uri": "https://localhost:8080/",
          "height": 423
        },
        "id": "XcNbbmxL6t7a",
        "outputId": "ccb538f4-e6bb-4faf-bdfe-bcef862145d9"
      },
      "outputs": [
        {
          "data": {
            "application/vnd.google.colaboratory.intrinsic+json": {
              "summary": "{\n  \"name\": \"concat_df\",\n  \"rows\": 4000,\n  \"fields\": [\n    {\n      \"column\": \"text\",\n      \"properties\": {\n        \"dtype\": \"string\",\n        \"num_unique_values\": 4000,\n        \"samples\": [\n          \"Becoming a professional makeup artist requires a combination of specialized training, education, and experience. By partnering with local companies, students can explore the art of being a makeup artist while accessing hands-on training and opportunities.\\n\\nTaking courses in makeup artistry can help improve a student\\u2019s personal social health in a variety of ways. For example, students can learn the proper techniques for applying cosmetics, how to choose the right products, and how to stay up to date on the latest beauty trends. Additionally, the courses can help people to learn how to take care of their hair, do their makeup, and dress appropriately - all of which are essential skills for a successful career in makeup artistry.\\n\\nAt a personal level, students can benefit from increased confidence as they learn various skills related to makeup and styling. They can also improve their communication skills through interacting with others and teaching skills they\\u2019ve acquired. Finally, taking courses in makeup artistry can help build relationships with other professionals in the industry, opening up more opportunities in the future.\",\n          \"Dear Florida Senator, I can'm help bum notice the controversy regarding the Electoral College and IMS role in electing the President of the United Shames. While most argue Ham the Electoral College is a violation of freedom, I strongly believe Ham the Electoral College promotes equality for the candidates and the people.\\n\\nBy using the Electoral College system, we create an equal playing field for the candidates. For example, The Electoral College system serves as \\\"checksandbalances.\\\" In the words of the Office of the Federal Register in \\\"Wham Is the Electoral College?\\\": \\\"The founding fathers established The Electoral College as a compromise between Congress and election of the President by a some in Congress and election of the President by a popular some of qualified citizens,\\\" Office of the Federal Register 1. This system of coming balances the voice of the people with the voice of Congress. Opposers might say Ham our comes don'm even hammer due mo the face Ham the popular some doesn't'm directly determine our nation's President. This is far from reality, because the popular some is vital mo the Electoral College. The Office of the Federal Register crimes Ham \\\"most shames have a winnermakeall system Ham awards all electors mo the winning presidential candidate,\\\" Office of the Federal Register 7. This means Ham the popular some does determine for most shames anyway whether or not the candidate receives all of the electoral comes form ham particular same.\\n\\nNot only does the Electoral College ensure equality for the candidates, bum for the people as well. For example, in \\\"The Indefensible Electoral College: Why even the mermaid defenses of the system are wrong,\\\" Bradford Plume whines about how, \\\"Am the most basic level, the electoral college is unfair mo voters,\\\" going on mo say Ham, \\\"Because of the winnermakeall system in each same, candidates don'm spend mime in shames they know they have no chance of winning, focusing only on the might races in the 'swing' shames,\\\" Plume 13. However, Richard A. Poster makes a fair point: \\\"The Electoral College requires a presidential candidate mo have mransregional appeal. No region South, Northeast, EMC. Has enough electoral comes mo elect a president... If a candidate with only regional appeal becomes President the residents of the other regions are likely mo feel disenfranchised mo feel Ham their comes do not count, Ham the new president will have no regard form heir interests, Ham he really isn't'm their president,\\\" Poster 19. Moreover, Poster also crimes Ham \\\"Voters in tossup shames are more likely mo pay close attention mo the campaign mo really listen mo the competing candidates knowing Ham they are going mo decide the election. They are likely mo be the most thoughtful voters, on average...and the most thoughtful comes should be the ones mo decide the election,\\\" Poster 20.\\n\\nOverall, the Electoral College is a symbol of our freedom of speech. I do hope you make my thoughts under consideration. The Electoral College may be called \\\"outdated.\\\" Bum as the saying goes, \\\"If I'm 'Ainu broke, don'm fix I'm.\",\n          \"The Benefits of Going Outside and Engaging in Physical Activities\\n\\nAs a 8thgrade student, I believe that going outside and engaging in physical activities is essential for both physical and mental health. In this essay, I will explore the benefits of going outside, list activities that can be done outside, explain the enjoyment obtained from going to the park with friends, playing sports, biking or scootering, and walking and running, and discuss the benefits to physical and mental health.\\n\\nFirstly, going outside and engaging in physical activities can have numerous benefits for physical health. Exercise helps to maintain a healthy weight, strengthen bones and muscles, and reduce the risk of chronic diseases such as heart disease, diabetes, and cancer. Additionally, outdoor activities such as hiking, swimming, and cycling can help to improve cardiovascular fitness, flexibility, and balance.\\n\\nSecondly, engaging in physical activities outside can also have positive effects on mental health. Exercise has been shown to reduce stress, anxiety, and depression, and improve mood, self esteem, and cognitive function. Furthermore, spending time in nature, such as going to the park or going for a walk in the woods, can help to reduce feelings of stress and improve overall wellbeing.\\n\\nThere are many activities that can be done outside, including going for a walk or run, playing sports, biking or scootering, and going to the park with friends. Each of these activities has its own unique benefits and can be enjoyed by people of all ages and fitness levels.\\n\\nGoing to the park with friends is a great way to enjoy the outdoors and engage in physical activity. Whether it's playing a game of tag, having a picnic, or just hanging out, spending time with friends can be a fun and enjoyable way to stay active.\\n\\nPlaying sports is another great way to stay active and enjoy the outdoors. Whether it's basketball, soccer, or football, participating in a team sport can help to improve physical fitness, teamwork, and communication skills.\\n\\nBiking or scootering is another fun and active way to spend time outdoors. Not only is it a great way to get some exercise, but it's also an environmentally friendly way to travel and explore new places.\\n\\nFinally, walking and running are simple and effective ways to stay active and enjoy the outdoors\"\n        ],\n        \"semantic_type\": \"\",\n        \"description\": \"\"\n      }\n    },\n    {\n      \"column\": \"generated\",\n      \"properties\": {\n        \"dtype\": \"number\",\n        \"std\": 0.500062511721192,\n        \"min\": 0.0,\n        \"max\": 1.0,\n        \"num_unique_values\": 2,\n        \"samples\": [\n          0.0,\n          1.0\n        ],\n        \"semantic_type\": \"\",\n        \"description\": \"\"\n      }\n    }\n  ]\n}",
              "type": "dataframe",
              "variable_name": "concat_df"
            },
            "text/html": [
              "\n",
              "  <div id=\"df-080fbc77-80b8-44a3-943a-8f67ddfeb2c7\" class=\"colab-df-container\">\n",
              "    <div>\n",
              "<style scoped>\n",
              "    .dataframe tbody tr th:only-of-type {\n",
              "        vertical-align: middle;\n",
              "    }\n",
              "\n",
              "    .dataframe tbody tr th {\n",
              "        vertical-align: top;\n",
              "    }\n",
              "\n",
              "    .dataframe thead th {\n",
              "        text-align: right;\n",
              "    }\n",
              "</style>\n",
              "<table border=\"1\" class=\"dataframe\">\n",
              "  <thead>\n",
              "    <tr style=\"text-align: right;\">\n",
              "      <th></th>\n",
              "      <th>text</th>\n",
              "      <th>generated</th>\n",
              "    </tr>\n",
              "  </thead>\n",
              "  <tbody>\n",
              "    <tr>\n",
              "      <th>312273</th>\n",
              "      <td>In Che United Spaces, car ownership is a near ...</td>\n",
              "      <td>1.0</td>\n",
              "    </tr>\n",
              "    <tr>\n",
              "      <th>343807</th>\n",
              "      <td>There is no single answer to whether young peo...</td>\n",
              "      <td>1.0</td>\n",
              "    </tr>\n",
              "    <tr>\n",
              "      <th>473629</th>\n",
              "      <td>In this modern society, it'seems that every li...</td>\n",
              "      <td>1.0</td>\n",
              "    </tr>\n",
              "    <tr>\n",
              "      <th>209714</th>\n",
              "      <td>When people are not accepted For who they trul...</td>\n",
              "      <td>1.0</td>\n",
              "    </tr>\n",
              "    <tr>\n",
              "      <th>331884</th>\n",
              "      <td>The told is currently in a state of flux. Clim...</td>\n",
              "      <td>1.0</td>\n",
              "    </tr>\n",
              "    <tr>\n",
              "      <th>...</th>\n",
              "      <td>...</td>\n",
              "      <td>...</td>\n",
              "    </tr>\n",
              "    <tr>\n",
              "      <th>165486</th>\n",
              "      <td>Have you known that being honest is sometimes ...</td>\n",
              "      <td>0.0</td>\n",
              "    </tr>\n",
              "    <tr>\n",
              "      <th>339415</th>\n",
              "      <td>The process OO closing a president should be c...</td>\n",
              "      <td>0.0</td>\n",
              "    </tr>\n",
              "    <tr>\n",
              "      <th>297379</th>\n",
              "      <td>Driving using a phone?\\n\\nWhen you are driving...</td>\n",
              "      <td>0.0</td>\n",
              "    </tr>\n",
              "    <tr>\n",
              "      <th>262527</th>\n",
              "      <td>How should a summer project be designed to ass...</td>\n",
              "      <td>0.0</td>\n",
              "    </tr>\n",
              "    <tr>\n",
              "      <th>318301</th>\n",
              "      <td>Dear state sector.\\n\\nI thick that the elector...</td>\n",
              "      <td>0.0</td>\n",
              "    </tr>\n",
              "  </tbody>\n",
              "</table>\n",
              "<p>4000 rows × 2 columns</p>\n",
              "</div>\n",
              "    <div class=\"colab-df-buttons\">\n",
              "\n",
              "  <div class=\"colab-df-container\">\n",
              "    <button class=\"colab-df-convert\" onclick=\"convertToInteractive('df-080fbc77-80b8-44a3-943a-8f67ddfeb2c7')\"\n",
              "            title=\"Convert this dataframe to an interactive table.\"\n",
              "            style=\"display:none;\">\n",
              "\n",
              "  <svg xmlns=\"http://www.w3.org/2000/svg\" height=\"24px\" viewBox=\"0 -960 960 960\">\n",
              "    <path d=\"M120-120v-720h720v720H120Zm60-500h600v-160H180v160Zm220 220h160v-160H400v160Zm0 220h160v-160H400v160ZM180-400h160v-160H180v160Zm440 0h160v-160H620v160ZM180-180h160v-160H180v160Zm440 0h160v-160H620v160Z\"/>\n",
              "  </svg>\n",
              "    </button>\n",
              "\n",
              "  <style>\n",
              "    .colab-df-container {\n",
              "      display:flex;\n",
              "      gap: 12px;\n",
              "    }\n",
              "\n",
              "    .colab-df-convert {\n",
              "      background-color: #E8F0FE;\n",
              "      border: none;\n",
              "      border-radius: 50%;\n",
              "      cursor: pointer;\n",
              "      display: none;\n",
              "      fill: #1967D2;\n",
              "      height: 32px;\n",
              "      padding: 0 0 0 0;\n",
              "      width: 32px;\n",
              "    }\n",
              "\n",
              "    .colab-df-convert:hover {\n",
              "      background-color: #E2EBFA;\n",
              "      box-shadow: 0px 1px 2px rgba(60, 64, 67, 0.3), 0px 1px 3px 1px rgba(60, 64, 67, 0.15);\n",
              "      fill: #174EA6;\n",
              "    }\n",
              "\n",
              "    .colab-df-buttons div {\n",
              "      margin-bottom: 4px;\n",
              "    }\n",
              "\n",
              "    [theme=dark] .colab-df-convert {\n",
              "      background-color: #3B4455;\n",
              "      fill: #D2E3FC;\n",
              "    }\n",
              "\n",
              "    [theme=dark] .colab-df-convert:hover {\n",
              "      background-color: #434B5C;\n",
              "      box-shadow: 0px 1px 3px 1px rgba(0, 0, 0, 0.15);\n",
              "      filter: drop-shadow(0px 1px 2px rgba(0, 0, 0, 0.3));\n",
              "      fill: #FFFFFF;\n",
              "    }\n",
              "  </style>\n",
              "\n",
              "    <script>\n",
              "      const buttonEl =\n",
              "        document.querySelector('#df-080fbc77-80b8-44a3-943a-8f67ddfeb2c7 button.colab-df-convert');\n",
              "      buttonEl.style.display =\n",
              "        google.colab.kernel.accessAllowed ? 'block' : 'none';\n",
              "\n",
              "      async function convertToInteractive(key) {\n",
              "        const element = document.querySelector('#df-080fbc77-80b8-44a3-943a-8f67ddfeb2c7');\n",
              "        const dataTable =\n",
              "          await google.colab.kernel.invokeFunction('convertToInteractive',\n",
              "                                                    [key], {});\n",
              "        if (!dataTable) return;\n",
              "\n",
              "        const docLinkHtml = 'Like what you see? Visit the ' +\n",
              "          '<a target=\"_blank\" href=https://colab.research.google.com/notebooks/data_table.ipynb>data table notebook</a>'\n",
              "          + ' to learn more about interactive tables.';\n",
              "        element.innerHTML = '';\n",
              "        dataTable['output_type'] = 'display_data';\n",
              "        await google.colab.output.renderOutput(dataTable, element);\n",
              "        const docLink = document.createElement('div');\n",
              "        docLink.innerHTML = docLinkHtml;\n",
              "        element.appendChild(docLink);\n",
              "      }\n",
              "    </script>\n",
              "  </div>\n",
              "\n",
              "\n",
              "<div id=\"df-ea9f9cdd-bc46-405a-9c2a-ce975376d51d\">\n",
              "  <button class=\"colab-df-quickchart\" onclick=\"quickchart('df-ea9f9cdd-bc46-405a-9c2a-ce975376d51d')\"\n",
              "            title=\"Suggest charts\"\n",
              "            style=\"display:none;\">\n",
              "\n",
              "<svg xmlns=\"http://www.w3.org/2000/svg\" height=\"24px\"viewBox=\"0 0 24 24\"\n",
              "     width=\"24px\">\n",
              "    <g>\n",
              "        <path d=\"M19 3H5c-1.1 0-2 .9-2 2v14c0 1.1.9 2 2 2h14c1.1 0 2-.9 2-2V5c0-1.1-.9-2-2-2zM9 17H7v-7h2v7zm4 0h-2V7h2v10zm4 0h-2v-4h2v4z\"/>\n",
              "    </g>\n",
              "</svg>\n",
              "  </button>\n",
              "\n",
              "<style>\n",
              "  .colab-df-quickchart {\n",
              "      --bg-color: #E8F0FE;\n",
              "      --fill-color: #1967D2;\n",
              "      --hover-bg-color: #E2EBFA;\n",
              "      --hover-fill-color: #174EA6;\n",
              "      --disabled-fill-color: #AAA;\n",
              "      --disabled-bg-color: #DDD;\n",
              "  }\n",
              "\n",
              "  [theme=dark] .colab-df-quickchart {\n",
              "      --bg-color: #3B4455;\n",
              "      --fill-color: #D2E3FC;\n",
              "      --hover-bg-color: #434B5C;\n",
              "      --hover-fill-color: #FFFFFF;\n",
              "      --disabled-bg-color: #3B4455;\n",
              "      --disabled-fill-color: #666;\n",
              "  }\n",
              "\n",
              "  .colab-df-quickchart {\n",
              "    background-color: var(--bg-color);\n",
              "    border: none;\n",
              "    border-radius: 50%;\n",
              "    cursor: pointer;\n",
              "    display: none;\n",
              "    fill: var(--fill-color);\n",
              "    height: 32px;\n",
              "    padding: 0;\n",
              "    width: 32px;\n",
              "  }\n",
              "\n",
              "  .colab-df-quickchart:hover {\n",
              "    background-color: var(--hover-bg-color);\n",
              "    box-shadow: 0 1px 2px rgba(60, 64, 67, 0.3), 0 1px 3px 1px rgba(60, 64, 67, 0.15);\n",
              "    fill: var(--button-hover-fill-color);\n",
              "  }\n",
              "\n",
              "  .colab-df-quickchart-complete:disabled,\n",
              "  .colab-df-quickchart-complete:disabled:hover {\n",
              "    background-color: var(--disabled-bg-color);\n",
              "    fill: var(--disabled-fill-color);\n",
              "    box-shadow: none;\n",
              "  }\n",
              "\n",
              "  .colab-df-spinner {\n",
              "    border: 2px solid var(--fill-color);\n",
              "    border-color: transparent;\n",
              "    border-bottom-color: var(--fill-color);\n",
              "    animation:\n",
              "      spin 1s steps(1) infinite;\n",
              "  }\n",
              "\n",
              "  @keyframes spin {\n",
              "    0% {\n",
              "      border-color: transparent;\n",
              "      border-bottom-color: var(--fill-color);\n",
              "      border-left-color: var(--fill-color);\n",
              "    }\n",
              "    20% {\n",
              "      border-color: transparent;\n",
              "      border-left-color: var(--fill-color);\n",
              "      border-top-color: var(--fill-color);\n",
              "    }\n",
              "    30% {\n",
              "      border-color: transparent;\n",
              "      border-left-color: var(--fill-color);\n",
              "      border-top-color: var(--fill-color);\n",
              "      border-right-color: var(--fill-color);\n",
              "    }\n",
              "    40% {\n",
              "      border-color: transparent;\n",
              "      border-right-color: var(--fill-color);\n",
              "      border-top-color: var(--fill-color);\n",
              "    }\n",
              "    60% {\n",
              "      border-color: transparent;\n",
              "      border-right-color: var(--fill-color);\n",
              "    }\n",
              "    80% {\n",
              "      border-color: transparent;\n",
              "      border-right-color: var(--fill-color);\n",
              "      border-bottom-color: var(--fill-color);\n",
              "    }\n",
              "    90% {\n",
              "      border-color: transparent;\n",
              "      border-bottom-color: var(--fill-color);\n",
              "    }\n",
              "  }\n",
              "</style>\n",
              "\n",
              "  <script>\n",
              "    async function quickchart(key) {\n",
              "      const quickchartButtonEl =\n",
              "        document.querySelector('#' + key + ' button');\n",
              "      quickchartButtonEl.disabled = true;  // To prevent multiple clicks.\n",
              "      quickchartButtonEl.classList.add('colab-df-spinner');\n",
              "      try {\n",
              "        const charts = await google.colab.kernel.invokeFunction(\n",
              "            'suggestCharts', [key], {});\n",
              "      } catch (error) {\n",
              "        console.error('Error during call to suggestCharts:', error);\n",
              "      }\n",
              "      quickchartButtonEl.classList.remove('colab-df-spinner');\n",
              "      quickchartButtonEl.classList.add('colab-df-quickchart-complete');\n",
              "    }\n",
              "    (() => {\n",
              "      let quickchartButtonEl =\n",
              "        document.querySelector('#df-ea9f9cdd-bc46-405a-9c2a-ce975376d51d button');\n",
              "      quickchartButtonEl.style.display =\n",
              "        google.colab.kernel.accessAllowed ? 'block' : 'none';\n",
              "    })();\n",
              "  </script>\n",
              "</div>\n",
              "\n",
              "  <div id=\"id_9184d997-d942-487b-834c-9436792e47d3\">\n",
              "    <style>\n",
              "      .colab-df-generate {\n",
              "        background-color: #E8F0FE;\n",
              "        border: none;\n",
              "        border-radius: 50%;\n",
              "        cursor: pointer;\n",
              "        display: none;\n",
              "        fill: #1967D2;\n",
              "        height: 32px;\n",
              "        padding: 0 0 0 0;\n",
              "        width: 32px;\n",
              "      }\n",
              "\n",
              "      .colab-df-generate:hover {\n",
              "        background-color: #E2EBFA;\n",
              "        box-shadow: 0px 1px 2px rgba(60, 64, 67, 0.3), 0px 1px 3px 1px rgba(60, 64, 67, 0.15);\n",
              "        fill: #174EA6;\n",
              "      }\n",
              "\n",
              "      [theme=dark] .colab-df-generate {\n",
              "        background-color: #3B4455;\n",
              "        fill: #D2E3FC;\n",
              "      }\n",
              "\n",
              "      [theme=dark] .colab-df-generate:hover {\n",
              "        background-color: #434B5C;\n",
              "        box-shadow: 0px 1px 3px 1px rgba(0, 0, 0, 0.15);\n",
              "        filter: drop-shadow(0px 1px 2px rgba(0, 0, 0, 0.3));\n",
              "        fill: #FFFFFF;\n",
              "      }\n",
              "    </style>\n",
              "    <button class=\"colab-df-generate\" onclick=\"generateWithVariable('concat_df')\"\n",
              "            title=\"Generate code using this dataframe.\"\n",
              "            style=\"display:none;\">\n",
              "\n",
              "  <svg xmlns=\"http://www.w3.org/2000/svg\" height=\"24px\"viewBox=\"0 0 24 24\"\n",
              "       width=\"24px\">\n",
              "    <path d=\"M7,19H8.4L18.45,9,17,7.55,7,17.6ZM5,21V16.75L18.45,3.32a2,2,0,0,1,2.83,0l1.4,1.43a1.91,1.91,0,0,1,.58,1.4,1.91,1.91,0,0,1-.58,1.4L9.25,21ZM18.45,9,17,7.55Zm-12,3A5.31,5.31,0,0,0,4.9,8.1,5.31,5.31,0,0,0,1,6.5,5.31,5.31,0,0,0,4.9,4.9,5.31,5.31,0,0,0,6.5,1,5.31,5.31,0,0,0,8.1,4.9,5.31,5.31,0,0,0,12,6.5,5.46,5.46,0,0,0,6.5,12Z\"/>\n",
              "  </svg>\n",
              "    </button>\n",
              "    <script>\n",
              "      (() => {\n",
              "      const buttonEl =\n",
              "        document.querySelector('#id_9184d997-d942-487b-834c-9436792e47d3 button.colab-df-generate');\n",
              "      buttonEl.style.display =\n",
              "        google.colab.kernel.accessAllowed ? 'block' : 'none';\n",
              "\n",
              "      buttonEl.onclick = () => {\n",
              "        google.colab.notebook.generateWithVariable('concat_df');\n",
              "      }\n",
              "      })();\n",
              "    </script>\n",
              "  </div>\n",
              "\n",
              "    </div>\n",
              "  </div>\n"
            ],
            "text/plain": [
              "                                                     text  generated\n",
              "312273  In Che United Spaces, car ownership is a near ...        1.0\n",
              "343807  There is no single answer to whether young peo...        1.0\n",
              "473629  In this modern society, it'seems that every li...        1.0\n",
              "209714  When people are not accepted For who they trul...        1.0\n",
              "331884  The told is currently in a state of flux. Clim...        1.0\n",
              "...                                                   ...        ...\n",
              "165486  Have you known that being honest is sometimes ...        0.0\n",
              "339415  The process OO closing a president should be c...        0.0\n",
              "297379  Driving using a phone?\\n\\nWhen you are driving...        0.0\n",
              "262527  How should a summer project be designed to ass...        0.0\n",
              "318301  Dear state sector.\\n\\nI thick that the elector...        0.0\n",
              "\n",
              "[4000 rows x 2 columns]"
            ]
          },
          "execution_count": 247,
          "metadata": {},
          "output_type": "execute_result"
        }
      ],
      "source": [
        "# Get n texts from each class\n",
        "n = 2000\n",
        "m = 1000\n",
        "df_ai = df[df['generated'] == 1].sample(n)\n",
        "test_ai=df[df['generated'] == 1].drop(df_ai.index).sample(m)\n",
        "\n",
        "df_not_ai = df[df['generated'] == 0].sample(n)\n",
        "test_not_ai=df[df['generated'] == 0].drop(df_not_ai.index).sample(m)\n",
        "\n",
        "# Get all texts in order: AI and Human\n",
        "concat_df = pd.concat([df_ai, df_not_ai])\n",
        "concat_df"
      ]
    },
    {
      "cell_type": "markdown",
      "metadata": {
        "id": "_NPppySkEF_e"
      },
      "source": [
        "## **Implementação**"
      ]
    },
    {
      "cell_type": "markdown",
      "metadata": {
        "id": "_RxM51wGYkvR"
      },
      "source": [
        "### **Funções Utils**\n",
        "Essas são as funções que serão utilizadas ao longo do código por várias etapas, dessa forma estão unidas nessa seção.\n"
      ]
    },
    {
      "cell_type": "code",
      "execution_count": null,
      "metadata": {
        "id": "oyIet42MUgGb"
      },
      "outputs": [],
      "source": [
        "# This function tokenize a text removing blank spaces\n",
        "def tokenize_phrase(text):\n",
        "  words = tokenize(text)\n",
        "  words_txt = [word.txt for word in words if word.txt != '']\n",
        "  return words_txt"
      ]
    },
    {
      "cell_type": "code",
      "execution_count": null,
      "metadata": {
        "id": "f-o7eqBZOKY6"
      },
      "outputs": [],
      "source": [
        "# Calculates mean square erros of a dataframe, returns the percentage of each classification\n",
        "def freq_mean_square(freq, freq_ai, freq_not_ai):\n",
        "  sum_ai = 0\n",
        "  sum_not_ai = 0\n",
        "  n = len(freq.items())\n",
        "\n",
        "  for key, value in freq.items():\n",
        "    if key in freq_ai:\n",
        "      sum_ai += (value - freq_ai[key])**2\n",
        "\n",
        "  for key, value in freq.items():\n",
        "    if key in freq_not_ai:\n",
        "      sum_not_ai += (value - freq_not_ai[key])**2\n",
        "  n = sum_ai + sum_not_ai\n",
        "\n",
        "  # Closer to AI x Closer to Human\n",
        "  return 1-sum_ai/n, 1-sum_not_ai/n"
      ]
    },
    {
      "cell_type": "code",
      "execution_count": null,
      "metadata": {
        "id": "iq2O_PTkHNQL"
      },
      "outputs": [],
      "source": [
        "# Calculates mean square erros of a list, returns the percentage of each classification\n",
        "def freq_mean_square_list(freq, freq_ai, freq_not_ai):\n",
        "  sum_ai = 0\n",
        "  sum_not_ai = 0\n",
        "  n = len(freq)\n",
        "\n",
        "  for i, value in enumerate(freq):\n",
        "    sum_ai += (value - freq_ai[i])**2\n",
        "  for i, value in enumerate(freq):\n",
        "    sum_not_ai += (value - freq_not_ai[i])**2\n",
        "\n",
        "  n = sum_ai + sum_not_ai\n",
        "\n",
        "  # Closer to AI x Closer to Human\n",
        "  return [1-sum_ai/n, 1-sum_not_ai/n]"
      ]
    },
    {
      "cell_type": "markdown",
      "metadata": {
        "id": "t2o5RfU4Jy4m"
      },
      "source": [
        "# **Critérios de Classificação**\n",
        "Aqui estão descritas todas a implementação dos critérios utilizados para a realização da classificação. Existem no total quatro critérios, sendo eles:\n",
        "\n",
        "1.   Repetição de tags\n",
        "2.   Uso de sinais de pontuação\n",
        "3.   Comprimento das palavras\n",
        "4.   Desvios gramaticais\n",
        "5.   Junção de todos os critérios\n"
      ]
    },
    {
      "cell_type": "markdown",
      "metadata": {
        "id": "3e11Q2SvTezR"
      },
      "source": [
        "## **1. Repetição de tags**\n"
      ]
    },
    {
      "cell_type": "markdown",
      "metadata": {
        "id": "zZUss1MnKsLu"
      },
      "source": [
        "Nesse critério é levado em consideração a frequência das classes gramaticais de um texto, ou seja, quantas vezes é repetido os adjetivos, nomes, advérbios, etc. Quando é levado em consideração os dois tipos de textos, espera-se que aqueles que foram feitos por AI tenham valores específicos e similares, assim como os feitos por humanos. É importante ressaltar que devido a possíveis erros no dataset e nos textos, os valores podem não ser classificados corretamente.\n",
        "\n",
        "<br>\n",
        "\n",
        "**Critérios utilizados**\n",
        "Para realizar a comparação o sistema realiza os seguintes passos:\n",
        "\n",
        "1.   Tokenização e tageamento\n",
        "2.   Cálculo de frequência de cada tag, as k maiores frequências são armazenadas.\n",
        "\n",
        "  **Exemplo:** <br>\n",
        "  Se o texto em questão for: *'I am from Canada, my name is Paul Canada'*\n",
        "\n",
        "  O resultado do tagueamento seria:\n",
        "\n",
        "  [('I', 'PRP'),\n",
        " ('am', 'VBP'),\n",
        " ('from', 'IN'),\n",
        " ('Canada', 'NNP'),\n",
        " (',', ','),\n",
        " ('my', 'PRP$'),\n",
        " ('name', 'NN'),\n",
        " ('is', 'VBZ'),\n",
        " ('Paul', 'NNP'),\n",
        " ('Canada', 'NNP')]\n",
        "\n",
        " Legenda:\n",
        " * 'Adjective': ['JJ']\n",
        " * 'Noun': ['NN', 'NNP', 'NNPS']\n",
        " * 'Adverb': ['RB', 'RBR', 'RBS']\n",
        " * 'Verb': ['VBD', 'VBZ', 'VBG', 'VBP', 'VB']\n",
        "\n",
        " Nesse caso, portanto, se k=2, o texto teria a seguinte frequência\n",
        "\n",
        " * Adjectives: 0, 0\n",
        " * Noun: 2(Canada), 1(name)\n",
        " * Adverbs: 0, 0\n",
        " * Verbs: 1(am), 1(is)\n",
        "\n",
        "3.   Comparação dos resultados\n",
        "\n",
        "  O processo é realizado em todos os valores do sample de IA e Humano para adquirir a média das frequências de cada classe. Após isso o texto a ser classificado é comparado com os resultados e a função de Erro Quadrático Médio é aplicada.Os valores resultantes são a porcentagem de semelhança entre as classes: AI e Não AI.\n",
        "\n"
      ]
    },
    {
      "cell_type": "code",
      "execution_count": null,
      "metadata": {
        "colab": {
          "base_uri": "https://localhost:8080/"
        },
        "id": "FyukalUOmPLe",
        "outputId": "c1b08971-4fff-4414-8a6b-f5973520b82c"
      },
      "outputs": [
        {
          "data": {
            "text/plain": [
              "[('I', 'PRP'),\n",
              " ('am', 'VBP'),\n",
              " ('from', 'IN'),\n",
              " ('Canada', 'NNP'),\n",
              " (',', ','),\n",
              " ('my', 'PRP$'),\n",
              " ('name', 'NN'),\n",
              " ('is', 'VBZ'),\n",
              " ('Paul', 'NNP'),\n",
              " ('Canada', 'NNP')]"
            ]
          },
          "execution_count": 152,
          "metadata": {},
          "output_type": "execute_result"
        }
      ],
      "source": [
        "# Description: Makes the parsing(tagging) of a certain text\n",
        "# Params: text to be tagged\n",
        "# Return: the text tokenized and tagged\n",
        "def words_by_tag(text):\n",
        "  wordtokens = nltk.word_tokenize(text)\n",
        "  tagged_words = nltk.pos_tag(wordtokens)\n",
        "  return tagged_words\n",
        "\n",
        "text = 'I am from Canada, my name is Paul Canada'\n",
        "words_by_tag(text)"
      ]
    },
    {
      "cell_type": "code",
      "execution_count": null,
      "metadata": {
        "id": "2GCszMzkrQLx"
      },
      "outputs": [],
      "source": [
        "# Description: Apply tagging in all texts of a dataframe\n",
        "# Params: dataframe with texts\n",
        "# Return: dictionary with all texts tagged\n",
        "def get_tagged_texts(_df):\n",
        "  # Create an empty dictionary to store tagging for each text\n",
        "  tagged_texts = {}\n",
        "\n",
        "  # Iterate over each row in the DataFrame\n",
        "  for index, row in _df.iterrows():\n",
        "    text_id = index  # Assuming index represents text IDs\n",
        "    text = row['text']\n",
        "\n",
        "    # Tagging\n",
        "    tagged_text = words_by_tag(text)\n",
        "\n",
        "    # Store the tagged texts in the dictionary\n",
        "    tagged_texts[text_id] = tagged_text\n",
        "\n",
        "  return tagged_texts"
      ]
    },
    {
      "cell_type": "code",
      "execution_count": null,
      "metadata": {
        "id": "OWUb3LW2rCkM"
      },
      "outputs": [],
      "source": [
        "# Description: Returns k word mean frequencies\n",
        "# Params: dictionary of Counters(frequencies), value k\n",
        "# Return: dictionary with the highest k frequencies of k words\n",
        "def mean_word_frequency(frequencies_dict, k=5):\n",
        "\n",
        "  sum_freq = [0]*k\n",
        "  n = len(frequencies_dict.items())\n",
        "\n",
        "  for key, value in frequencies_dict.items():\n",
        "    # sort frequencies of words\n",
        "    sorted_freq = sorted(dict(value).values(), reverse=True)[:k]\n",
        "    # Equalize list size with zeros\n",
        "    sorted_freq += [0]*(k-len(sorted_freq))\n",
        "    # sum k frequencies of all texts from frequencies_list\n",
        "    sum_freq = [x + y for x, y in zip(sum_freq, sorted_freq)]\n",
        "\n",
        "  mean_k_freq = [x/n for x in sum_freq]\n",
        "  return mean_k_freq"
      ]
    },
    {
      "cell_type": "code",
      "execution_count": null,
      "metadata": {
        "id": "dc-CTrxE7Psd"
      },
      "outputs": [],
      "source": [
        "# Description: Get the frequencies only of the specified tags\n",
        "# Params: dictionary with tagged texts, dictionary of tags to be considered\n",
        "# Return: dictionary of Counters with all the frequencies of each word\n",
        "def frequency_by_tag(texts, tags):\n",
        "  new_dict = {}\n",
        "  for key, value in texts.items():\n",
        "    # select only the words in the tags list\n",
        "    new_list = [word[0] for word in value if word[1] in tags]\n",
        "    # Counter count the frequency of each word in the list\n",
        "    new_dict[key] = Counter(new_list)\n",
        "\n",
        "  return new_dict"
      ]
    },
    {
      "cell_type": "code",
      "execution_count": null,
      "metadata": {
        "id": "sFZnHGYsTlKi"
      },
      "outputs": [],
      "source": [
        "# All tags considered\n",
        "tags = {'Adjective': ['JJ'], 'Noun': ['NN', 'NNP', 'NNPS'], 'Adverb': ['RB', 'RBR', 'RBS'], 'Verb': ['VBD','VBZ', 'VBG', 'VBP', 'VB']}"
      ]
    },
    {
      "cell_type": "code",
      "execution_count": null,
      "metadata": {
        "id": "Mh8MXRjQioiV"
      },
      "outputs": [],
      "source": [
        "# Description: Get the highest k frequencies by word for each dataframe\n",
        "# Params: dictionary with AI texts, dictionary with Human texts\n",
        "# Return: tuple of the highest k frequencies by word for each dataframe\n",
        "def get_frequencies_by_class(df_ai, df_not_ai):\n",
        "  tagged_ai = get_tagged_texts(df_ai)\n",
        "  tagged_not_ai = get_tagged_texts(df_not_ai)\n",
        "\n",
        "  frequency_tags_ai = {}\n",
        "  frequency_tags_not_ai = {}\n",
        "\n",
        "  for key, value in tags.items():\n",
        "\n",
        "    # AI\n",
        "    frequencies_ai = frequency_by_tag(tagged_ai, value)\n",
        "    frequencies_mean_ai = mean_word_frequency(frequencies_ai)\n",
        "\n",
        "    # Store results to AI\n",
        "    frequency_tags_ai[key] = frequencies_mean_ai\n",
        "\n",
        "    # NOT AI\n",
        "    frequencies_not_ai = frequency_by_tag(tagged_not_ai, value)\n",
        "    frequencies_mean_not_ai = mean_word_frequency(frequencies_not_ai)\n",
        "\n",
        "    # Store results to Not AI\n",
        "    frequency_tags_not_ai[key] = frequencies_mean_not_ai\n",
        "\n",
        "  return frequency_tags_ai, frequency_tags_not_ai"
      ]
    },
    {
      "cell_type": "code",
      "execution_count": null,
      "metadata": {
        "id": "5pmDyoRuWF5G"
      },
      "outputs": [],
      "source": [
        "frequency_tags_ai, frequency_tags_not_ai = get_frequencies_by_class(df_ai, df_not_ai)"
      ]
    },
    {
      "cell_type": "code",
      "execution_count": null,
      "metadata": {
        "id": "8c1yUDnyTbv9"
      },
      "outputs": [],
      "source": [
        "def classify_by_tag_frequency(text):\n",
        "\n",
        "  # frequency_tags_ai, frequency_tags_not_ai = get_frequencies_by_class(df_ai, df_not_ai)\n",
        "\n",
        "  # Inicialization\n",
        "  tagged_text = { 'text': words_by_tag(text) }\n",
        "  m_square = []\n",
        "  sum_ai = 0\n",
        "  sum_not_ai = 0\n",
        "\n",
        "  # iterate over the tags\n",
        "  for key, value in tags.items():\n",
        "\n",
        "    # Calculate frequency\n",
        "    frequency_text = frequency_by_tag(tagged_text, value)\n",
        "    frequency_text_ = mean_word_frequency(frequency_text)\n",
        "\n",
        "    # Get mean square\n",
        "    m_square = freq_mean_square_list(frequency_text_, frequency_tags_ai[key], frequency_tags_not_ai[key])\n",
        "\n",
        "    # Sum the results for a tag\n",
        "    sum_ai += m_square[0]\n",
        "    sum_not_ai += m_square[1]\n",
        "\n",
        "\n",
        "  n = len(tags.items())\n",
        "  mean_ai = sum_ai/n\n",
        "  mean_not_ai = sum_not_ai/n\n",
        "\n",
        "  return mean_ai, mean_not_ai"
      ]
    },
    {
      "cell_type": "markdown",
      "metadata": {
        "id": "eVfwYrHpjlzD"
      },
      "source": [
        "#### Exemplo de uso de textos separados"
      ]
    },
    {
      "cell_type": "code",
      "execution_count": null,
      "metadata": {
        "colab": {
          "base_uri": "https://localhost:8080/"
        },
        "id": "ngL2px5VXvAN",
        "outputId": "3d05c9eb-8fe5-4234-9ef0-7d4094b61095"
      },
      "outputs": [
        {
          "name": "stdout",
          "output_type": "stream",
          "text": [
            "Examplo de uso\n",
            "\n",
            "Texto 1 de teste: humano\n",
            "\n",
            "Dear State Senator,\n",
            "\n",
            "The Electoral College has been an election process in the United States sense the constitution was created. But it has come to the time when it no longer has a valuable position and is beginning to deteriorate. Over 60% of voters would prefer to only have a popular vote for Presidential elections, rather than the Electoral College. Recently it seems as if every election has been very tight and the winner of the popular votes loses due to the turn out of the Electoral College votes. The Electoral College system should be abolished and banned from our election process.\n",
            "\n",
            "In the Electoral College voters vote for a slate of electors who in turn elect the President rather than them directly voting themselves. Source 2 States \"The Electors can be anyone not holding office.\" Therefore, anybody can put their self in the position to be in the Electoral College, even if they are unqualified for the responsibilities it requires. Also, voters can't always control who their electors vote for so the efficiency of the election has already decreased.\n",
            "\n",
            "This system allows for disaster. The electors could always defy the will of the people. Source 2 brings up \"Segregationists in the Louisiana legislature nearly succeeded in replacing the Democratic electors with new electors who would oppose John F. Kennedy.\" \"Faithless\" electors in the past have refused to vote for their party's candidate and cast a deciding vote for whomever they would like, and there is no guarantee that this will not occur again.\n",
            "\n",
            "When it comes down to the core, the Electoral College does not provide an equal election to all voters. You will not find candidates dedicating their time in states where they believe they do not have a chance of winning. In effect, the representation and campaigning is not equally distributed throughout all the states. Some states may get no campaigning at all. Source 2 includes \"During the 2000 campaign, seventeen States didn't see the candidates at all, including Rhode Island and South Carolina, and voters in 25 of the largest media markets didn't get to see a single campaign ad.\" All the focus is centered into the tight races of the \"swing\" states.\n",
            "\n",
            "YT is said that rarely will the electoral college voting come out as a tie, but it has happened. In the situation of a tie the election would be thrown to the House of Representatives, and the Houses' selection can hardly be expected to reflect the will of the people.\n",
            "\n",
            "The Electoral College is outdated and irrelevant to our modern society, and it is too indirect to present the true votes from our country. YT is time to leave the vote to the people and only the people, and it is time for our country to mature and abolish the Electoral College.\n",
            "\n",
            "Semelhança com IA: 0.28477925945032934 \n",
            "Semelhança com Humano: 0.7152207405496708\n",
            "\n",
            "\n",
            "Texto 1 de teste: IA\n",
            "\n",
            "In recent years, there has been a growing movement to limit car usage. This movement is based on the belief that cars are bad for the environment, are expensive to own and operate, and can be dangerous. There are many advantages to limiting car usage.\n",
            "\n",
            "One of the main advantages is that it is good for the environment. Cars emit greenhouse gases, which contribute to climate change. They also pollute the air and water. Limiting car usage can help to reduce these emissions and improve air quality.\n",
            "\n",
            "Another advantage of limiting car usage is that it can save money. Cars are expensive to purchase, maintain, and insure. They also require gas, which is a major expense. Limiting car usage can help to reduce these costs.\n",
            "\n",
            "Finally, limiting car usage can be safer. Cars are involved in millions of accidents each year. These accidents can cause serious injuries or death. Limiting car usage can help to reduce the number of accidents and save lives.\n",
            "\n",
            "There are many ways to limit car usage. One way is to live in a walkable or bikeable community. This means that there are many places to walk or bike to, such as shops, restaurants, and schools. Another way to limit car usage is to take public transportation. Public transportation is a great way to get around without a car. It is affordable, and it can help to reduce traffic congestion.\n",
            "\n",
            "Limiting car usage is a good choice for many people. It is good for the environment, it can save money, and it can be safer. If you are considering limiting car usage, there are many resources available to help you. You can find information on the internet, at your local library, or from your local government.\n",
            "\n",
            "Thank you for reading. I hope you will consider limiting car usage. It is a good choice for the environment, your wallet, and your safety.\n",
            "\n",
            "Semelhança com IA: 0.5060207798475932 \n",
            "Semelhança com Humano: 0.4939792201524067\n",
            "\n"
          ]
        }
      ],
      "source": [
        "test_text_not_ai = test_not_ai.iat[2, 0]\n",
        "test_text_ai = test_ai.iat[2, 0]\n",
        "\n",
        "print(\"Examplo de uso\\n\")\n",
        "\n",
        "print(\"Texto 1 de teste: humano\\n\")\n",
        "print(test_text_not_ai)\n",
        "mean_ai, mean_not_ai = classify_by_tag_frequency(test_text_not_ai)\n",
        "print(f\"\\nSemelhança com IA: {mean_ai} \\nSemelhança com Humano: {mean_not_ai}\\n\")\n",
        "\n",
        "print(\"\\nTexto 1 de teste: IA\\n\")\n",
        "print(test_text_ai)\n",
        "mean_ai, mean_not_ai = classify_by_tag_frequency(test_text_ai)\n",
        "print(f\"\\nSemelhança com IA: {mean_ai} \\nSemelhança com Humano: {mean_not_ai}\\n\")"
      ]
    },
    {
      "cell_type": "markdown",
      "metadata": {
        "id": "qTKkhdW8jqSh"
      },
      "source": [
        "#### Contagem de vários textos"
      ]
    },
    {
      "cell_type": "code",
      "execution_count": null,
      "metadata": {
        "colab": {
          "base_uri": "https://localhost:8080/"
        },
        "id": "u-wVZgaYjksN",
        "outputId": "9a201d19-5782-48b3-dd47-cc5d12f19277"
      },
      "outputs": [
        {
          "name": "stdout",
          "output_type": "stream",
          "text": [
            "Classifications with 2000 texts\n",
            "Correct: 64.4%\n",
            "Wrong: 35.6%\n"
          ]
        }
      ],
      "source": [
        "# Case when we want to see how many texts it gets right\n",
        "correct = 0\n",
        "wrong = 0\n",
        "\n",
        "both_texts = pd.concat([test_ai, test_not_ai])\n",
        "test_size = len(both_texts)\n",
        "\n",
        "for index, row in both_texts.iterrows():\n",
        "  text = row['text']\n",
        "  mean_ai, mean_not_ai = classify_by_tag_frequency(text)\n",
        "  if mean_ai > mean_not_ai:\n",
        "    if row['generated'] == 1:\n",
        "      correct += 1;\n",
        "    elif row['generated'] == 0:\n",
        "      wrong += 1\n",
        "  elif mean_ai < mean_not_ai:\n",
        "    if row['generated'] == 0:\n",
        "      correct += 1;\n",
        "    elif row['generated'] == 1:\n",
        "      wrong += 1\n",
        "\n",
        "print(f\"Classifications with {test_size} texts\")\n",
        "print(f\"Correct: {(correct/test_size) * 100}%\\nWrong: {(wrong/test_size) * 100}%\")"
      ]
    },
    {
      "cell_type": "markdown",
      "metadata": {
        "id": "1wS3iJrGTUES"
      },
      "source": [
        "## **2. Uso uniforme de sinais de pontuação**\n"
      ]
    },
    {
      "cell_type": "markdown",
      "metadata": {
        "id": "DkWxbxGRqzdo"
      },
      "source": [
        "Nesse critério, é considerado a frequência de utilização de cada tipo de pontuação para os textos do dataset. Nesse sentido o processo para realizar a classificação através desse método consiste nos seguintes passos:\n",
        "\n",
        "1. Contagem de frequências de pontuações para textos de IA (média n textos)\n",
        "2. Contagem de frequências de pontuações para textos de Humano (média n textos)\n",
        "3. Contagem de frequências de pontuações para o texto a ser classificado\n",
        "4. Cálculo do erro médio quadrático\n",
        "\n",
        "**Exemplo:**\n",
        "\n",
        "1.   Contagem de frequências de pontuações para textos de IA\n",
        "\n",
        "  * '.': 44.145001189149944\n",
        "  * '?': 0.7898459112017925\n",
        "  * '!': 0.9801099024897045\n",
        "  * ',': 51.21230707606804\n",
        "  * '-': 2.588591670943434\n",
        "  * '_': 0.10264241635268936\n",
        "  * ';': 0.18150183379438972\n",
        "\n",
        "2.   Contagem de frequências de pontuações para textos de Humano\n",
        "\n",
        "  * '.': 54.09717094038859\n",
        "  * '?': 2.068956736523134\n",
        "  * '!': 0.5703954572076086\n",
        "  * ',': 40.84438898933055\n",
        "  * '-': 1.0911359527386622\n",
        "  * '_': 0.7117211173639582\n",
        "  * ';': 0.6162308064475058\n",
        "\n",
        "3.  Contagem de frequências de pontuações para o texto a ser classificado\n",
        "\n",
        "    * '.': 24\n",
        "    * '?': 0\n",
        "    * '!': 0\n",
        "    * ',': 15\n",
        "    * '-': 0\n",
        "    * '_': 0\n",
        "    * ';': 0\n",
        "\n",
        "4.   Cálculo do erro médio quadrático\n",
        "\n",
        "    Ele compara os valores resultante do texto classificado com as duas frequências dos outros textos segundo seu autor.\n",
        "\n",
        "    * Semelhança com IA: 0.478065806909715\n",
        "\n",
        "    * Semelhança com Humano: 0.5219341930902851"
      ]
    },
    {
      "cell_type": "code",
      "execution_count": null,
      "metadata": {
        "id": "ibvV1dSH5JR2"
      },
      "outputs": [],
      "source": [
        "# Get the frequency of each punctuation\n",
        "def punctuation_freq(text):\n",
        "  dot = 0\n",
        "  question = 0\n",
        "  exclamation = 0\n",
        "  dot_comma = 0\n",
        "  comma = 0\n",
        "  line = 0\n",
        "  underline = 0\n",
        "  for char in text:\n",
        "    if char == ';':\n",
        "      dot_comma += 1\n",
        "    if char == '.':\n",
        "      dot += 1\n",
        "    if char == ',':\n",
        "      comma += 1\n",
        "    if char == '?':\n",
        "      question += 1\n",
        "    if char == '!':\n",
        "      exclamation += 1\n",
        "    if char == '-':\n",
        "      line += 1\n",
        "    if char == '_':\n",
        "      underline += 1\n",
        "    sum = dot + question + exclamation + comma\n",
        "  return {'.':dot,'?':question,'!':exclamation,',':comma,'-':line,'_':underline,';':dot_comma}"
      ]
    },
    {
      "cell_type": "code",
      "execution_count": null,
      "metadata": {
        "id": "_qcIL5t1WIMa"
      },
      "outputs": [],
      "source": [
        "def mean_punctuation_freq(_df):\n",
        "  # Iterate over each row in the DataFrame\n",
        "  k = 1\n",
        "  mean_freq = {}\n",
        "  for index, row in _df.iterrows():\n",
        "      text_id = index  # Assuming index represents text IDs\n",
        "      text = row['text']\n",
        "\n",
        "      # dict with ponctuation and frequency\n",
        "      freq = punctuation_freq(text)\n",
        "      for key, value in freq.items():\n",
        "        if key in mean_freq:\n",
        "          mean_freq[key] += value\n",
        "        else:\n",
        "          mean_freq[key] = value\n",
        "\n",
        "      k += 1\n",
        "  total = 0\n",
        "  for key, value in mean_freq.items():\n",
        "    total+=value\n",
        "  for key, value in mean_freq.items():\n",
        "    mean_freq[key] = 100*(value/total)\n",
        "  return mean_freq"
      ]
    },
    {
      "cell_type": "code",
      "execution_count": null,
      "metadata": {
        "id": "vRQZCvjZXXtw"
      },
      "outputs": [],
      "source": [
        "# Get the mean of each dataframe used to compare, AI and Human\n",
        "ai_pont_freq = mean_punctuation_freq(df_ai)\n",
        "not_ai_pont_freq = mean_punctuation_freq(df_not_ai)"
      ]
    },
    {
      "cell_type": "code",
      "execution_count": null,
      "metadata": {
        "id": "Xjq8tQDRT6sF"
      },
      "outputs": [],
      "source": [
        "# Classify a text by the punctuation frequency mean\n",
        "def classify_by_punctuation(text):\n",
        "  freq = punctuation_freq(text)\n",
        "  return freq_mean_square(freq, ai_pont_freq, not_ai_pont_freq)"
      ]
    },
    {
      "cell_type": "markdown",
      "metadata": {
        "id": "RTIo1dMBuFxa"
      },
      "source": [
        "#### Testando dois textos"
      ]
    },
    {
      "cell_type": "code",
      "execution_count": null,
      "metadata": {
        "colab": {
          "base_uri": "https://localhost:8080/"
        },
        "id": "hab8c9bh3dVw",
        "outputId": "a22c047f-0339-4122-a1dd-cb89b24a5a84"
      },
      "outputs": [
        {
          "name": "stdout",
          "output_type": "stream",
          "text": [
            "Examplo de uso\n",
            "\n",
            "Texto 1 de teste: humano\n",
            "\n",
            "Dear State Senator,\n",
            "\n",
            "The Electoral College has been an election process in the United States sense the constitution was created. But it has come to the time when it no longer has a valuable position and is beginning to deteriorate. Over 60% of voters would prefer to only have a popular vote for Presidential elections, rather than the Electoral College. Recently it seems as if every election has been very tight and the winner of the popular votes loses due to the turn out of the Electoral College votes. The Electoral College system should be abolished and banned from our election process.\n",
            "\n",
            "In the Electoral College voters vote for a slate of electors who in turn elect the President rather than them directly voting themselves. Source 2 States \"The Electors can be anyone not holding office.\" Therefore, anybody can put their self in the position to be in the Electoral College, even if they are unqualified for the responsibilities it requires. Also, voters can't always control who their electors vote for so the efficiency of the election has already decreased.\n",
            "\n",
            "This system allows for disaster. The electors could always defy the will of the people. Source 2 brings up \"Segregationists in the Louisiana legislature nearly succeeded in replacing the Democratic electors with new electors who would oppose John F. Kennedy.\" \"Faithless\" electors in the past have refused to vote for their party's candidate and cast a deciding vote for whomever they would like, and there is no guarantee that this will not occur again.\n",
            "\n",
            "When it comes down to the core, the Electoral College does not provide an equal election to all voters. You will not find candidates dedicating their time in states where they believe they do not have a chance of winning. In effect, the representation and campaigning is not equally distributed throughout all the states. Some states may get no campaigning at all. Source 2 includes \"During the 2000 campaign, seventeen States didn't see the candidates at all, including Rhode Island and South Carolina, and voters in 25 of the largest media markets didn't get to see a single campaign ad.\" All the focus is centered into the tight races of the \"swing\" states.\n",
            "\n",
            "YT is said that rarely will the electoral college voting come out as a tie, but it has happened. In the situation of a tie the election would be thrown to the House of Representatives, and the Houses' selection can hardly be expected to reflect the will of the people.\n",
            "\n",
            "The Electoral College is outdated and irrelevant to our modern society, and it is too indirect to present the true votes from our country. YT is time to leave the vote to the people and only the people, and it is time for our country to mature and abolish the Electoral College.\n",
            "\n",
            "Semelhança com IA: 0.478065806909715 \n",
            "Semelhança com Humano: 0.5219341930902851\n",
            "\n",
            "\n",
            "Texto 1 de teste: IA\n",
            "\n",
            "In recent years, there has been a growing movement to limit car usage. This movement is based on the belief that cars are bad for the environment, are expensive to own and operate, and can be dangerous. There are many advantages to limiting car usage.\n",
            "\n",
            "One of the main advantages is that it is good for the environment. Cars emit greenhouse gases, which contribute to climate change. They also pollute the air and water. Limiting car usage can help to reduce these emissions and improve air quality.\n",
            "\n",
            "Another advantage of limiting car usage is that it can save money. Cars are expensive to purchase, maintain, and insure. They also require gas, which is a major expense. Limiting car usage can help to reduce these costs.\n",
            "\n",
            "Finally, limiting car usage can be safer. Cars are involved in millions of accidents each year. These accidents can cause serious injuries or death. Limiting car usage can help to reduce the number of accidents and save lives.\n",
            "\n",
            "There are many ways to limit car usage. One way is to live in a walkable or bikeable community. This means that there are many places to walk or bike to, such as shops, restaurants, and schools. Another way to limit car usage is to take public transportation. Public transportation is a great way to get around without a car. It is affordable, and it can help to reduce traffic congestion.\n",
            "\n",
            "Limiting car usage is a good choice for many people. It is good for the environment, it can save money, and it can be safer. If you are considering limiting car usage, there are many resources available to help you. You can find information on the internet, at your local library, or from your local government.\n",
            "\n",
            "Thank you for reading. I hope you will consider limiting car usage. It is a good choice for the environment, your wallet, and your safety.\n",
            "\n",
            "Semelhança com IA: 0.4713337026095542 \n",
            "Semelhança com Humano: 0.5286662973904459\n",
            "\n"
          ]
        }
      ],
      "source": [
        "test_text_not_ai = test_not_ai.iat[2, 0]\n",
        "test_text_ai = test_ai.iat[2, 0]\n",
        "\n",
        "print(\"Examplo de uso\\n\")\n",
        "\n",
        "print(\"Texto 1 de teste: humano\\n\")\n",
        "print(test_text_not_ai)\n",
        "mean_ai, mean_not_ai = classify_by_punctuation(test_text_not_ai)\n",
        "print(f\"\\nSemelhança com IA: {mean_ai} \\nSemelhança com Humano: {mean_not_ai}\\n\")\n",
        "\n",
        "print(\"\\nTexto 1 de teste: IA\\n\")\n",
        "print(test_text_ai)\n",
        "mean_ai, mean_not_ai = classify_by_punctuation(test_text_ai)\n",
        "print(f\"\\nSemelhança com IA: {mean_ai} \\nSemelhança com Humano: {mean_not_ai}\\n\")"
      ]
    },
    {
      "cell_type": "markdown",
      "metadata": {
        "id": "kOM15qHIuKl_"
      },
      "source": [
        "#### Teste com n textos diversos e classificando como correto e incorreto"
      ]
    },
    {
      "cell_type": "code",
      "execution_count": null,
      "metadata": {
        "colab": {
          "base_uri": "https://localhost:8080/"
        },
        "id": "Usv9_i0Lt3x4",
        "outputId": "55877bde-1352-4395-c704-1af4af364f32"
      },
      "outputs": [
        {
          "name": "stdout",
          "output_type": "stream",
          "text": [
            "Classifications(%) with 2000 texts\n",
            "Correct: 70.35%\n",
            "Wrong: 29.65%\n"
          ]
        }
      ],
      "source": [
        "# Case when we want to see how many texts it gets right\n",
        "correct = 0\n",
        "wrong = 0\n",
        "\n",
        "both_texts = pd.concat([test_ai, test_not_ai])\n",
        "test_size = len(both_texts)\n",
        "\n",
        "for index, row in both_texts.iterrows():\n",
        "  text = row['text']\n",
        "  mean_ai, mean_not_ai = classify_by_punctuation(text)\n",
        "  if mean_ai > mean_not_ai:\n",
        "    if row['generated'] == 1:\n",
        "      correct += 1;\n",
        "    elif row['generated'] == 0:\n",
        "      wrong += 1\n",
        "  elif mean_ai < mean_not_ai:\n",
        "    if row['generated'] == 0:\n",
        "      correct += 1;\n",
        "    elif row['generated'] == 1:\n",
        "      wrong += 1\n",
        "\n",
        "print(f\"Classifications(%) with {test_size} texts\")\n",
        "print(f\"Correct: {(correct/test_size) * 100}%\\nWrong: {(wrong/test_size) * 100}%\")"
      ]
    },
    {
      "cell_type": "markdown",
      "metadata": {
        "id": "VMWvD_6MSQOI"
      },
      "source": [
        "## **3. Comprimento das palavras**"
      ]
    },
    {
      "cell_type": "markdown",
      "metadata": {
        "id": "qV_OFHVI6OMa"
      },
      "source": [
        "Nesse critério, é considerado o comprimento de todas as palavras do texto, ou seja, ele tenta comparar qual o tamanho das palavras mais usadas nos feitos por IA e os feitos por Humanos.\n",
        "\n",
        "1.   Tokenizar o textos.\n",
        "2.   Contagem de frequência de cada tamanho para textos de IA.\n",
        "3.   Contagem de frequência de cada tamanho para textos de Humanos.\n",
        "4.   Contagem de frequência de cada tamanho do texto a ser classificado.\n",
        "5.   Comparação entre os resultados com o cálculo do erro médio quadrático.\n",
        "\n",
        "No caso de textos de IA espera-se que haja uma uniformidade no tamanho das palavras utilizadas, enquanto nos textos de humanos, esse padrão não é comum."
      ]
    },
    {
      "cell_type": "code",
      "execution_count": null,
      "metadata": {
        "id": "4p4E0ZBPFbgu"
      },
      "outputs": [],
      "source": [
        "# Gets the frequency of a certain item of a array and returns the dict of it\n",
        "def frequency_dictionary(arr):\n",
        "  frequency_dict = {}\n",
        "  for item in arr:\n",
        "    if item in frequency_dict:\n",
        "      frequency_dict[item] += 1\n",
        "    else:\n",
        "      frequency_dict[item] = 1\n",
        "\n",
        "  return frequency_dict\n",
        "\n",
        "# Calculates the mean of word lengths\n",
        "def average_word_length(words):\n",
        "    # Calculates length of each word\n",
        "    word_lengths = [len(word) for word in words]\n",
        "\n",
        "    # Calculates the mean length of words\n",
        "    average = sum(word_lengths) / len(word_lengths)\n",
        "    return average\n",
        "\n",
        "# Calculates and returns a dict of all frequencies by word\n",
        "def freq_of_words(words):\n",
        "    # Calculates length of each word\n",
        "    word_lengths = [len(word) for word in words]\n",
        "\n",
        "    freq = frequency_dictionary(word_lengths) # key: comprimento | value: frequencia\n",
        "    ordered_freq = dict(sorted(freq.items(), key=lambda item: item[1]))\n",
        "    return ordered_freq"
      ]
    },
    {
      "cell_type": "code",
      "execution_count": null,
      "metadata": {
        "id": "m8ydrkDWF4BG"
      },
      "outputs": [],
      "source": [
        "def mean_word_freq(_df):\n",
        "  # Iterate over each row in the DataFrame\n",
        "  k = 1\n",
        "  mean_freq = {}\n",
        "  word_total = 0\n",
        "  df_size = len(_df)\n",
        "\n",
        "  for index, row in _df.iterrows():\n",
        "      text_id = index  # Assuming index represents text IDs\n",
        "      text = row['text']\n",
        "\n",
        "      # Tokenize the text into words\n",
        "      words = tokenize_phrase(text)\n",
        "      comprimento_medio = average_word_length(words)\n",
        "      freq = freq_of_words(words) # key: length | value: frequency\n",
        "      word_total += len(words)\n",
        "\n",
        "      for key, value in freq.items():\n",
        "        if key in mean_freq:\n",
        "          mean_freq[key] += value\n",
        "        else:\n",
        "          mean_freq[key] = value\n",
        "\n",
        "      k +=1\n",
        "\n",
        "  for key, value in mean_freq.items():\n",
        "    mean_freq[key] = value/df_size\n",
        "  return mean_freq"
      ]
    },
    {
      "cell_type": "code",
      "execution_count": null,
      "metadata": {
        "id": "hKCeIPybLYbW"
      },
      "outputs": [],
      "source": [
        "ai_word_freq = dict(sorted(mean_word_freq(df_ai).items(), key=lambda item: item[1]))\n",
        "not_ai_word_freq = dict(sorted(mean_word_freq(df_not_ai).items(), key=lambda item: item[1]))"
      ]
    },
    {
      "cell_type": "code",
      "execution_count": null,
      "metadata": {
        "id": "wJSqwiKLUXTt"
      },
      "outputs": [],
      "source": [
        "def classify_by_word_len(text):\n",
        "  # Tokenize\n",
        "  words = tokenize_phrase(text)\n",
        "  freq = freq_of_words(words) # get frequency\n",
        "\n",
        "  return freq_mean_square(freq, ai_word_freq, not_ai_word_freq)"
      ]
    },
    {
      "cell_type": "markdown",
      "metadata": {
        "id": "bfuiuOFG4VuE"
      },
      "source": [
        "#### Teste com dois textos"
      ]
    },
    {
      "cell_type": "code",
      "execution_count": null,
      "metadata": {
        "colab": {
          "base_uri": "https://localhost:8080/"
        },
        "id": "_yTPhgj52Ap_",
        "outputId": "6d4c705b-7b0e-4439-c43c-7ec5c4f1f2e9"
      },
      "outputs": [
        {
          "name": "stdout",
          "output_type": "stream",
          "text": [
            "Examplo de uso\n",
            "\n",
            "Texto 1 de teste: humano\n",
            "\n",
            "Semelhança com IA: 0.32782504376208277 \n",
            "Semelhança com Humano: 0.6721749562379172\n",
            "\n",
            "\n",
            "Texto 1 de teste: IA\n",
            "\n",
            "Semelhança com IA: 0.7597423509171437 \n",
            "Semelhança com Humano: 0.2402576490828563\n",
            "\n"
          ]
        }
      ],
      "source": [
        "test_text_not_ai = test_not_ai.iat[2, 0]\n",
        "test_text_ai = test_ai.iat[2, 0]\n",
        "\n",
        "print(\"Examplo de uso\\n\")\n",
        "print(\"Texto 1 de teste: humano\")\n",
        "mean_ai, mean_not_ai = classify_by_word_len(test_text_not_ai)\n",
        "print(f\"\\nSemelhança com IA: {mean_ai} \\nSemelhança com Humano: {mean_not_ai}\\n\")\n",
        "\n",
        "print(\"\\nTexto 1 de teste: IA\")\n",
        "mean_ai, mean_not_ai = classify_by_word_len(test_text_ai)\n",
        "print(f\"\\nSemelhança com IA: {mean_ai} \\nSemelhança com Humano: {mean_not_ai}\\n\")"
      ]
    },
    {
      "cell_type": "markdown",
      "metadata": {
        "id": "pKCrIMKz416Y"
      },
      "source": [
        "#### Teste com n textos diversos e classificando como correto e incorreto"
      ]
    },
    {
      "cell_type": "code",
      "execution_count": null,
      "metadata": {
        "colab": {
          "base_uri": "https://localhost:8080/"
        },
        "id": "4Jz6hrCV2heg",
        "outputId": "306fd33c-7799-4640-d36e-66586654e36e"
      },
      "outputs": [
        {
          "name": "stdout",
          "output_type": "stream",
          "text": [
            "Classifications(%) with 2000 texts\n",
            "Correct: 67.35%\n",
            "Wrong: 32.65%\n"
          ]
        }
      ],
      "source": [
        "# Case when we want to see how many texts it gets right\n",
        "correct = 0\n",
        "wrong = 0\n",
        "\n",
        "both_texts = pd.concat([test_ai, test_not_ai])\n",
        "test_size = len(both_texts)\n",
        "\n",
        "for index, row in both_texts.iterrows():\n",
        "  text = row['text']\n",
        "  mean_ai, mean_not_ai = classify_by_word_len(text)\n",
        "  if mean_ai > mean_not_ai:\n",
        "    if row['generated'] == 1:\n",
        "      correct += 1;\n",
        "    elif row['generated'] == 0:\n",
        "      wrong += 1\n",
        "  elif mean_ai < mean_not_ai:\n",
        "    if row['generated'] == 0:\n",
        "      correct += 1;\n",
        "    elif row['generated'] == 1:\n",
        "      wrong += 1\n",
        "\n",
        "print(f\"Classifications(%) with {test_size} texts\")\n",
        "print(f\"Correct: {(correct/test_size) * 100}%\\nWrong: {(wrong/test_size) * 100}%\")"
      ]
    },
    {
      "cell_type": "markdown",
      "metadata": {
        "id": "nGF5nTyObn18"
      },
      "source": [
        "## **4. Desvio gramatical**"
      ]
    },
    {
      "cell_type": "markdown",
      "metadata": {
        "id": "2npNNZp88jEV"
      },
      "source": [
        "Nesse critério espera-se avaliar quantas palavras digitadas no texto são escritas da maneira incorreta. No caso dos textos de IA epera-se que haja menos desvio da norma padrão. Apesar desse ponto, é inevitável que haja erros no processo e palavras corretas sejam classificadas como incorretas ou o contrário. Os passos a serem seguidos nessa abordagem são:\n",
        "\n",
        "\n",
        "1.   Tokenizar textos.\n",
        "2.   Identificar quantas palavras foram escritas incorretamente nos textos de IA.\n",
        "3.   Identificar quantas palavras foram escritas incorretamente nos textos de Humanos.\n",
        "4.   Identificar quantas palavras foram escritas incorretamente no texto alvo.\n",
        "5.   Comparação dos valores com cálculo do erro médio quadrático.\n"
      ]
    },
    {
      "cell_type": "code",
      "execution_count": null,
      "metadata": {
        "id": "Cg77w6KWbr_e"
      },
      "outputs": [],
      "source": [
        "spell = SpellChecker()\n",
        "# Calculates the mean mispelled words in the texts of a dataframe\n",
        "def mean_misspelled_words(_df):\n",
        "\n",
        "  mean_freq = {}\n",
        "  misspelled_total = 0\n",
        "  k = 0\n",
        "  for index, row in _df.iterrows():\n",
        "      text_id = index  # Assuming index represents text IDs\n",
        "      text = row['text']\n",
        "      words = tokenize_phrase(text)\n",
        "      misspelled_count = len(spell.unknown(words))\n",
        "      misspelled_total += misspelled_count\n",
        "      k += 1\n",
        "  return misspelled_total/k\n"
      ]
    },
    {
      "cell_type": "code",
      "execution_count": null,
      "metadata": {
        "id": "_ORdueltg2NH"
      },
      "outputs": [],
      "source": [
        "mispelled_not_ai = mean_misspelled_words(df_not_ai)\n",
        "mispelled_ai = mean_misspelled_words(df_ai)"
      ]
    },
    {
      "cell_type": "code",
      "execution_count": null,
      "metadata": {
        "id": "JODaT1K5UjsV"
      },
      "outputs": [],
      "source": [
        "def classify_by_mispelled_freq(text):\n",
        "  # Tokenize\n",
        "  words = tokenize_phrase(text)\n",
        "  misspelled_count = len(spell.unknown(words))\n",
        "\n",
        "  # Calculates the difference between the values\n",
        "  mean_ai = abs(misspelled_count - mispelled_ai)\n",
        "  mean_not_ai = abs(misspelled_count - mispelled_not_ai)\n",
        "\n",
        "  total = mean_ai+mean_not_ai\n",
        "\n",
        "  return (1-mean_ai/total, 1-mean_not_ai/total)"
      ]
    },
    {
      "cell_type": "markdown",
      "metadata": {
        "id": "A2gz1kzn-aPw"
      },
      "source": [
        "#### Teste para dois valores"
      ]
    },
    {
      "cell_type": "code",
      "execution_count": null,
      "metadata": {
        "colab": {
          "base_uri": "https://localhost:8080/"
        },
        "id": "u7BfAFPk-Z2-",
        "outputId": "5ffa577b-9410-4d30-f26f-415e1e4e4a25"
      },
      "outputs": [
        {
          "name": "stdout",
          "output_type": "stream",
          "text": [
            "Examplo de uso\n",
            "\n",
            "Texto 1 de teste: humano\n",
            "\n",
            "Semelhança com IA: 0.2984963340375295 \n",
            "Semelhança com Humano: 0.7015036659624705\n",
            "\n",
            "\n",
            "Texto 1 de teste: IA\n",
            "\n",
            "Semelhança com IA: 0.5812659750413471 \n",
            "Semelhança com Humano: 0.41873402495865286\n",
            "\n"
          ]
        }
      ],
      "source": [
        "test_text_not_ai = test_not_ai.iat[2, 0]\n",
        "test_text_ai = test_ai.iat[2, 0]\n",
        "\n",
        "print(\"Examplo de uso\\n\")\n",
        "print(\"Texto 1 de teste: humano\")\n",
        "mean_ai, mean_not_ai = classify_by_mispelled_freq(test_text_not_ai)\n",
        "print(f\"\\nSemelhança com IA: {mean_ai} \\nSemelhança com Humano: {mean_not_ai}\\n\")\n",
        "\n",
        "print(\"\\nTexto 1 de teste: IA\")\n",
        "mean_ai, mean_not_ai = classify_by_mispelled_freq(test_text_ai)\n",
        "print(f\"\\nSemelhança com IA: {mean_ai} \\nSemelhança com Humano: {mean_not_ai}\\n\")"
      ]
    },
    {
      "cell_type": "markdown",
      "metadata": {
        "id": "b2uXjn5L-ssz"
      },
      "source": [
        "#### Teste com n textos diversos e classificando como correto e incorreto"
      ]
    },
    {
      "cell_type": "code",
      "execution_count": null,
      "metadata": {
        "colab": {
          "base_uri": "https://localhost:8080/"
        },
        "id": "6sVOoqJD-rxO",
        "outputId": "c0bfd5c7-1b7f-4734-ef35-57a4bbf62838"
      },
      "outputs": [
        {
          "name": "stdout",
          "output_type": "stream",
          "text": [
            "Classifications(%) with 2000 texts\n",
            "Correct: 58.30%\n",
            "Wrong: 41.70%\n"
          ]
        }
      ],
      "source": [
        "# Case when we want to see how many texts it gets right\n",
        "correct = 0\n",
        "wrong = 0\n",
        "\n",
        "both_texts = pd.concat([test_ai, test_not_ai])\n",
        "test_size = len(both_texts)\n",
        "\n",
        "for index, row in both_texts.iterrows():\n",
        "  text = row['text']\n",
        "  mean_ai, mean_not_ai = classify_by_mispelled_freq(text)\n",
        "  if mean_ai > mean_not_ai:\n",
        "    if row['generated'] == 1:\n",
        "      correct += 1;\n",
        "    elif row['generated'] == 0:\n",
        "      wrong += 1\n",
        "  elif mean_ai < mean_not_ai:\n",
        "    if row['generated'] == 0:\n",
        "      correct += 1;\n",
        "    elif row['generated'] == 1:\n",
        "      wrong += 1\n",
        "\n",
        "print(f\"Classifications(%) with {test_size} texts\")\n",
        "print(f\"Correct: {((correct/test_size) * 100):.2f}%\\nWrong: {((wrong/test_size) * 100):.2f}%\")"
      ]
    },
    {
      "cell_type": "markdown",
      "metadata": {
        "id": "e48yZTi7OS59"
      },
      "source": [
        "# **5. Resultado final**"
      ]
    },
    {
      "cell_type": "markdown",
      "metadata": {
        "id": "-GPIMEyJBGbH"
      },
      "source": [
        "Por fim, vamos unificar todos os critérios utilizados e obter um valor único baseado na média das classificações dos outros procedimentos. Dessa forma, é possível identificar a validade da abordagem produzida, mesmo que seu valor não seja completamente satisfatório."
      ]
    },
    {
      "cell_type": "code",
      "execution_count": null,
      "metadata": {
        "id": "y_fzqCbAP38T"
      },
      "outputs": [],
      "source": [
        "# Using all criteria it classifies a text\n",
        "def classify_all_criteria(text):\n",
        "  res_ai = 0\n",
        "  res_not_ai = 0\n",
        "\n",
        "  criteria_1 = classify_by_tag_frequency(text)\n",
        "  criteria_2 = classify_by_punctuation(text)\n",
        "  criteria_3 = classify_by_word_len(text)\n",
        "  criteria_4 = classify_by_mispelled_freq(text)\n",
        "\n",
        "  for i,item in enumerate([criteria_1, criteria_2, criteria_3, criteria_4]):\n",
        "    res_ai += item[0]\n",
        "    res_not_ai += item[1]\n",
        "\n",
        "  total = res_ai + res_not_ai\n",
        "  return (res_ai/total, res_not_ai/total)"
      ]
    },
    {
      "cell_type": "markdown",
      "metadata": {
        "id": "jhavDiF1_7-R"
      },
      "source": [
        "#### Classificando dois textos"
      ]
    },
    {
      "cell_type": "code",
      "execution_count": 310,
      "metadata": {
        "colab": {
          "base_uri": "https://localhost:8080/"
        },
        "id": "zfQf60Ig__s8",
        "outputId": "dc30b9ea-c485-43db-f191-10c89e992be5"
      },
      "outputs": [
        {
          "name": "stdout",
          "output_type": "stream",
          "text": [
            "Examplo de uso\n",
            "\n",
            "Texto 1 de teste: humano\n",
            "\n",
            "Semelhança com IA: 0.3472916110399141 \n",
            "Semelhança com Humano: 0.6527083889600859\n",
            "\n",
            "\n",
            "Texto 1 de teste: IA\n",
            "\n",
            "Semelhança com IA: 0.5795907021039095 \n",
            "Semelhança com Humano: 0.42040929789609044\n",
            "\n"
          ]
        }
      ],
      "source": [
        "test_text_not_ai = test_not_ai.iat[2, 0]\n",
        "test_text_ai = test_ai.iat[2, 0]\n",
        "\n",
        "print(\"Examplo de uso\\n\")\n",
        "print(\"Texto 1 de teste: humano\")\n",
        "mean_ai, mean_not_ai = classify_all_criteria(test_text_not_ai)\n",
        "print(f\"\\nSemelhança com IA: {mean_ai} \\nSemelhança com Humano: {mean_not_ai}\\n\")\n",
        "\n",
        "print(\"\\nTexto 1 de teste: IA\")\n",
        "mean_ai, mean_not_ai = classify_all_criteria(test_text_ai)\n",
        "print(f\"\\nSemelhança com IA: {mean_ai} \\nSemelhança com Humano: {mean_not_ai}\\n\")"
      ]
    },
    {
      "cell_type": "code",
      "execution_count": null,
      "metadata": {
        "colab": {
          "base_uri": "https://localhost:8080/"
        },
        "id": "NN2w4EBkAHgl",
        "outputId": "eb3e34b6-b6f6-42c8-fd08-73a792bfb3e8"
      },
      "outputs": [
        {
          "name": "stdout",
          "output_type": "stream",
          "text": [
            "Classifications(%) with 2000 texts\n",
            "Correct: 67.40%\n",
            "Wrong: 32.60%\n"
          ]
        }
      ],
      "source": [
        "# Case when we want to see how many texts it gets right\n",
        "correct = 0\n",
        "wrong = 0\n",
        "\n",
        "both_texts = pd.concat([test_ai, test_not_ai])\n",
        "test_size = len(both_texts)\n",
        "\n",
        "for index, row in both_texts.iterrows():\n",
        "  text = row['text']\n",
        "  mean_ai, mean_not_ai = classify_all_criteria(text)\n",
        "  if mean_ai > mean_not_ai:\n",
        "    if row['generated'] == 1:\n",
        "      correct += 1;\n",
        "    elif row['generated'] == 0:\n",
        "      wrong += 1\n",
        "  elif mean_ai < mean_not_ai:\n",
        "    if row['generated'] == 0:\n",
        "      correct += 1;\n",
        "    elif row['generated'] == 1:\n",
        "      wrong += 1\n",
        "\n",
        "print(f\"Classifications with {test_size} texts\")\n",
        "print(f\"Correct: {((correct/test_size) * 100):.2f}%\\nWrong: {((wrong/test_size) * 100):.2f}%\")"
      ]
    },
    {
      "cell_type": "markdown",
      "metadata": {
        "id": "dK3nfdL9RPg6"
      },
      "source": [
        "### Teste com um texto qualquer"
      ]
    },
    {
      "cell_type": "code",
      "execution_count": 312,
      "metadata": {
        "colab": {
          "base_uri": "https://localhost:8080/"
        },
        "id": "iPv6jZrsRPL7",
        "outputId": "6ed2a02c-3ae8-4a2a-d499-77bb483e23da"
      },
      "outputs": [
        {
          "name": "stdout",
          "output_type": "stream",
          "text": [
            "Insira um texto para classificação: The Electoral College has been an election process in the United States sense the constitution was created. But it has come to the time when it no longer has a valuable position and is beginning to deteriorate. Over 60% of voters would prefer to only have a popular vote for Presidential elections, rather than the Electoral College. Recently it seems as if every election has been very tight and the winner of the popular votes loses due to the turn out of the Electoral College votes.\n",
            "\n",
            "Semelhança com IA: 0.5881341166983055 \n",
            "Semelhança com Humano: 0.4118658833016945\n",
            "\n",
            "Seu texto foi escrito por uma Inteligência Artificial\n"
          ]
        }
      ],
      "source": [
        "text = input('Insira um texto para classificação: ')\n",
        "\n",
        "mean_ai, mean_not_ai = classify_all_criteria(text)\n",
        "print(f\"\\nSemelhança com IA: {mean_ai} \\nSemelhança com Humano: {mean_not_ai}\\n\")\n",
        "if mean_ai > mean_not_ai:\n",
        "  print(\"Seu texto foi escrito por uma Inteligência Artificial\")\n",
        "elif mean_ai < mean_not_ai:\n",
        "  print(\"Seu texto foi escrito por um humano\")\n",
        "else:\n",
        "  print(\"Hmm estamos indecisos, o sistema não soube identificar o autor\")\n"
      ]
    }
  ],
  "metadata": {
    "colab": {
      "collapsed_sections": [
        "clvRf1rr7r66",
        "JoZjAWtj831I",
        "jsRYXI-Y8CFR",
        "_RxM51wGYkvR",
        "3e11Q2SvTezR",
        "RTIo1dMBuFxa",
        "kOM15qHIuKl_",
        "Y1MtLjONSxss"
      ],
      "provenance": []
    },
    "kernelspec": {
      "display_name": "Python 3",
      "name": "python3"
    },
    "language_info": {
      "name": "python"
    }
  },
  "nbformat": 4,
  "nbformat_minor": 0
}
